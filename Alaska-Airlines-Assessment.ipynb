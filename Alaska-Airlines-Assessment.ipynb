{
 "cells": [
  {
   "cell_type": "markdown",
   "metadata": {},
   "source": [
    "# Alaska Airlines Data Science Interview Practical Exercise\n",
    "#### Emily Yamauchi"
   ]
  },
  {
   "cell_type": "markdown",
   "metadata": {},
   "source": [
    "## Table of Contents <a name=\"top\"></a>"
   ]
  },
  {
   "cell_type": "markdown",
   "metadata": {},
   "source": [
    "[Introduction](#introduction)  \n",
    "[Step 0: Load data](#step0)  \n",
    "[Step 1: Clean data](#step1)  \n",
    "[Step 2: New Variables (Aircraft Age)](#step2)  \n",
    "[Step 3: EDA](#step3)  \n",
    "[Step 4: Preprocessing variables](#step4)  \n",
    "[Step 5: Logistic Regression](#step5)  \n",
    "[Step 6: Model Accuracy](#step6)  \n",
    "[Step 7: Iterate through Steps 4-6](#step7)  \n",
    "[Conclusion](#conclusion)"
   ]
  },
  {
   "cell_type": "markdown",
   "metadata": {},
   "source": [
    "## Introduction <a name=\"introduction\"></a>  "
   ]
  },
  {
   "cell_type": "markdown",
   "metadata": {},
   "source": [
    "[(Back to top)](#top)"
   ]
  },
  {
   "cell_type": "markdown",
   "metadata": {},
   "source": [
    "##### Background:   \n",
    "\n",
    "Alaska Airlines takes great pride in being an on-time airline.  Systems operations wants predictions of flights that may be delayed as a part of a real time delay mitigation program, where crews may be asked to fly faster.  However, flying faster requires burning more fuel, so we don’t want to do it unless we need to do so to prevent an arrival delay.   We’ll want to provide a prediction at takeoff time for each flight.  Arrival-delayed flights are defined as flights that arrive at **14 minutes or more after the scheduled arrival time**. "
   ]
  },
  {
   "cell_type": "markdown",
   "metadata": {},
   "source": [
    "##### Data:  \n",
    "\n",
    "The attached .csv file contains flight data from March 2020 to Feb 2021. Each row is a flight.  \n",
    "\n",
    "- `OPER_CARR_CD`—Operating airline – AS = Alaska Airlines, QX = Horizon Airlines, OO = Skywest Airlines\n",
    "- `ACT_ORIG`—Origin airport code\n",
    "- `ACT_DEST`—Destination airport code\t\t\t\n",
    "- `FLT_NBR`—Flight number\n",
    "- `ACT_FULL_TAIL_NBR`—Unique identifier for each individual aircraft\n",
    "- `ACT_AC_TYPE` —Aircraft types with different performance and seat configuration –  \n",
    "    Boeing 737, Airbus A320/321, De Havilland DH8-400, Embraer E175\n",
    "- `SKD_MILES` —Number of flight miles between origin and destination\n",
    "- `ACT_TAXI_OUT_MIN`—Minutes between gate departure and take off from runway at the origin\n",
    "- `ACT_TAXI_IN_MIN`—Minutes between touch down onto runway and gate arrival at the destination\n",
    "- `SKD_ZULU_DPTR_DTTM` —Scheduled departure datetime in UTC time\n",
    "- `ACT_ZULU_DPTR_DTTM` —Actual departure datetime in UTC time\n",
    "- `SKD_ZULU_ARRV_DTTM` —Scheduled arrival datetime in UTC time\n",
    "- `ACT_ZULU_ARRV_DTTM` —Actual arrival datetime in UTC time\n",
    "- `ACT_ORIG_GMT_OFFSET` —Time offset to convert from UTC time to the origin airport’s local time\n",
    "- `ACT_DEST_GMT_OFFSET` —Time offset to convert from UTC time to the destination airport’s local time\n"
   ]
  },
  {
   "cell_type": "markdown",
   "metadata": {},
   "source": [
    "## Step 0: Load libraries, load data  <a name=\"step0\"></a>"
   ]
  },
  {
   "cell_type": "markdown",
   "metadata": {},
   "source": [
    "[(Back to top)](#top)"
   ]
  },
  {
   "cell_type": "markdown",
   "metadata": {},
   "source": [
    "- First, load the data given for this assessment\n",
    "- The contents of the zip file given is saved in `data_raw/` directory"
   ]
  },
  {
   "cell_type": "code",
   "execution_count": 1,
   "metadata": {},
   "outputs": [],
   "source": [
    "import pandas as pd\n",
    "import numpy as np"
   ]
  },
  {
   "cell_type": "code",
   "execution_count": 2,
   "metadata": {},
   "outputs": [],
   "source": [
    "# load data\n",
    "\n",
    "\n",
    "df = pd.read_csv('data_raw/Predict Delays Mar 2020 to Feb 2021.csv')"
   ]
  },
  {
   "cell_type": "code",
   "execution_count": 3,
   "metadata": {},
   "outputs": [
    {
     "name": "stdout",
     "output_type": "stream",
     "text": [
      "df.shape:  (284555, 15)\n"
     ]
    }
   ],
   "source": [
    "# quick look at the data \n",
    "\n",
    "print('df.shape: ',df.shape)"
   ]
  },
  {
   "cell_type": "code",
   "execution_count": 4,
   "metadata": {},
   "outputs": [
    {
     "data": {
      "text/html": [
       "<div>\n",
       "<style scoped>\n",
       "    .dataframe tbody tr th:only-of-type {\n",
       "        vertical-align: middle;\n",
       "    }\n",
       "\n",
       "    .dataframe tbody tr th {\n",
       "        vertical-align: top;\n",
       "    }\n",
       "\n",
       "    .dataframe thead th {\n",
       "        text-align: right;\n",
       "    }\n",
       "</style>\n",
       "<table border=\"1\" class=\"dataframe\">\n",
       "  <thead>\n",
       "    <tr style=\"text-align: right;\">\n",
       "      <th></th>\n",
       "      <th>FLT_NBR</th>\n",
       "      <th>SKD_MILES</th>\n",
       "      <th>ACT_TAXI_OUT_MIN</th>\n",
       "      <th>ACT_TAXI_IN_MIN</th>\n",
       "      <th>ACT_ORIG_GMT_OFFSET</th>\n",
       "      <th>ACT_DEST_GMT_OFFSET</th>\n",
       "    </tr>\n",
       "  </thead>\n",
       "  <tbody>\n",
       "    <tr>\n",
       "      <th>count</th>\n",
       "      <td>284555.000000</td>\n",
       "      <td>282049.000000</td>\n",
       "      <td>270281.000000</td>\n",
       "      <td>270274.000000</td>\n",
       "      <td>270284.000000</td>\n",
       "      <td>270279.000000</td>\n",
       "    </tr>\n",
       "    <tr>\n",
       "      <th>mean</th>\n",
       "      <td>2010.768909</td>\n",
       "      <td>890.703778</td>\n",
       "      <td>14.344612</td>\n",
       "      <td>5.879974</td>\n",
       "      <td>-7.261355</td>\n",
       "      <td>-7.261086</td>\n",
       "    </tr>\n",
       "    <tr>\n",
       "      <th>std</th>\n",
       "      <td>1745.855003</td>\n",
       "      <td>699.060577</td>\n",
       "      <td>6.901253</td>\n",
       "      <td>5.150821</td>\n",
       "      <td>1.015641</td>\n",
       "      <td>1.016000</td>\n",
       "    </tr>\n",
       "    <tr>\n",
       "      <th>min</th>\n",
       "      <td>1.000000</td>\n",
       "      <td>0.000000</td>\n",
       "      <td>-308.000000</td>\n",
       "      <td>-1432.000000</td>\n",
       "      <td>-10.000000</td>\n",
       "      <td>-10.000000</td>\n",
       "    </tr>\n",
       "    <tr>\n",
       "      <th>25%</th>\n",
       "      <td>678.000000</td>\n",
       "      <td>372.000000</td>\n",
       "      <td>10.000000</td>\n",
       "      <td>4.000000</td>\n",
       "      <td>-8.000000</td>\n",
       "      <td>-8.000000</td>\n",
       "    </tr>\n",
       "    <tr>\n",
       "      <th>50%</th>\n",
       "      <td>2102.000000</td>\n",
       "      <td>680.000000</td>\n",
       "      <td>13.000000</td>\n",
       "      <td>5.000000</td>\n",
       "      <td>-7.000000</td>\n",
       "      <td>-7.000000</td>\n",
       "    </tr>\n",
       "    <tr>\n",
       "      <th>75%</th>\n",
       "      <td>2807.000000</td>\n",
       "      <td>1133.000000</td>\n",
       "      <td>17.000000</td>\n",
       "      <td>7.000000</td>\n",
       "      <td>-7.000000</td>\n",
       "      <td>-7.000000</td>\n",
       "    </tr>\n",
       "    <tr>\n",
       "      <th>max</th>\n",
       "      <td>9999.000000</td>\n",
       "      <td>2899.000000</td>\n",
       "      <td>207.000000</td>\n",
       "      <td>217.000000</td>\n",
       "      <td>-4.000000</td>\n",
       "      <td>0.000000</td>\n",
       "    </tr>\n",
       "  </tbody>\n",
       "</table>\n",
       "</div>"
      ],
      "text/plain": [
       "             FLT_NBR      SKD_MILES  ACT_TAXI_OUT_MIN  ACT_TAXI_IN_MIN  \\\n",
       "count  284555.000000  282049.000000     270281.000000    270274.000000   \n",
       "mean     2010.768909     890.703778         14.344612         5.879974   \n",
       "std      1745.855003     699.060577          6.901253         5.150821   \n",
       "min         1.000000       0.000000       -308.000000     -1432.000000   \n",
       "25%       678.000000     372.000000         10.000000         4.000000   \n",
       "50%      2102.000000     680.000000         13.000000         5.000000   \n",
       "75%      2807.000000    1133.000000         17.000000         7.000000   \n",
       "max      9999.000000    2899.000000        207.000000       217.000000   \n",
       "\n",
       "       ACT_ORIG_GMT_OFFSET  ACT_DEST_GMT_OFFSET  \n",
       "count        270284.000000        270279.000000  \n",
       "mean             -7.261355            -7.261086  \n",
       "std               1.015641             1.016000  \n",
       "min             -10.000000           -10.000000  \n",
       "25%              -8.000000            -8.000000  \n",
       "50%              -7.000000            -7.000000  \n",
       "75%              -7.000000            -7.000000  \n",
       "max              -4.000000             0.000000  "
      ]
     },
     "execution_count": 4,
     "metadata": {},
     "output_type": "execute_result"
    }
   ],
   "source": [
    "df.describe()"
   ]
  },
  {
   "cell_type": "markdown",
   "metadata": {},
   "source": [
    "## Step 1: Clean data  <a name=\"step1\"></a>"
   ]
  },
  {
   "cell_type": "markdown",
   "metadata": {},
   "source": [
    "[(Back to top)](#top)"
   ]
  },
  {
   "cell_type": "markdown",
   "metadata": {},
   "source": [
    "- Convert data types as needed\n",
    "- Extract `month` from the datetime column\n",
    "    - In case flights straddle two months, the scheduled departure date will be kept as the `month` variable\n",
    "- Create target variable for whether flight is delayed or not, per definition of 14 minutes past scheduled arrival\n",
    "- Find and determine how to deal with missing data\n",
    "- Find and determine how to deal with misleading data/outliers"
   ]
  },
  {
   "cell_type": "code",
   "execution_count": 5,
   "metadata": {},
   "outputs": [
    {
     "name": "stdout",
     "output_type": "stream",
     "text": [
      "Data type for column OPER_CARR_CD is <class 'str'>\n",
      "Data type for column ACT_ORIG is <class 'str'>\n",
      "Data type for column ACT_DEST is <class 'str'>\n",
      "Data type for column FLT_NBR is <class 'numpy.int64'>\n",
      "Data type for column ACT_FULL_TAIL_NBR is <class 'str'>\n",
      "Data type for column ACT_AC_TYPE is <class 'str'>\n",
      "Data type for column SKD_MILES is <class 'numpy.float64'>\n",
      "Data type for column ACT_TAXI_OUT_MIN is <class 'numpy.float64'>\n",
      "Data type for column ACT_TAXI_IN_MIN is <class 'numpy.float64'>\n",
      "Data type for column SKD_ZULU_DPTR_DTTM is <class 'str'>\n",
      "Data type for column ACT_ZULU_DPTR_DTTM is <class 'str'>\n",
      "Data type for column SKD_ZULU_ARRV_DTTM is <class 'str'>\n",
      "Data type for column ACT_ZULU_ARRV_DTTM is <class 'str'>\n",
      "Data type for column ACT_ORIG_GMT_OFFSET is <class 'numpy.float64'>\n",
      "Data type for column ACT_DEST_GMT_OFFSET is <class 'numpy.float64'>\n"
     ]
    }
   ],
   "source": [
    "# quick look at data types\n",
    "\n",
    "for col in df.columns:\n",
    "    print('Data type for column {} is {}'.format(col, type(df[col][0])))"
   ]
  },
  {
   "cell_type": "code",
   "execution_count": 6,
   "metadata": {},
   "outputs": [],
   "source": [
    "# Datetime field is in string, so convert to datetime\n",
    "\n",
    "from datetime import datetime, timedelta\n",
    "\n",
    "dt_cols = ['SKD_ZULU_DPTR_DTTM', 'ACT_ZULU_DPTR_DTTM', 'SKD_ZULU_ARRV_DTTM', 'ACT_ZULU_ARRV_DTTM']\n",
    "\n",
    "\n",
    "for dt_col in dt_cols:\n",
    "    df[dt_col] = pd.to_datetime(df[dt_col])"
   ]
  },
  {
   "cell_type": "code",
   "execution_count": 7,
   "metadata": {},
   "outputs": [],
   "source": [
    "# Extract month\n",
    "\n",
    "df['month'] = df.SKD_ZULU_DPTR_DTTM.dt.month_name()"
   ]
  },
  {
   "cell_type": "code",
   "execution_count": 8,
   "metadata": {},
   "outputs": [],
   "source": [
    "# Create target variable\n",
    "\n",
    "delay = pd.to_timedelta(df.ACT_ZULU_ARRV_DTTM - df.SKD_ZULU_ARRV_DTTM)\n",
    "\n",
    "delay_min = delay.dt.total_seconds() / 60 # minutes\n",
    "\n",
    "delay_cutoff = 14  # given\n",
    "\n",
    "df['delay_min'] = delay_min\n",
    "df['is_delay'] = np.where(delay_min >= delay_cutoff, 1, -1)"
   ]
  },
  {
   "cell_type": "code",
   "execution_count": 9,
   "metadata": {},
   "outputs": [
    {
     "data": {
      "text/plain": [
       "OPER_CARR_CD               0\n",
       "ACT_ORIG                   0\n",
       "ACT_DEST                   0\n",
       "FLT_NBR                    0\n",
       "ACT_FULL_TAIL_NBR          0\n",
       "ACT_AC_TYPE                3\n",
       "SKD_MILES               2506\n",
       "ACT_TAXI_OUT_MIN       14274\n",
       "ACT_TAXI_IN_MIN        14281\n",
       "SKD_ZULU_DPTR_DTTM      4231\n",
       "ACT_ZULU_DPTR_DTTM     14271\n",
       "SKD_ZULU_ARRV_DTTM      4231\n",
       "ACT_ZULU_ARRV_DTTM     14276\n",
       "ACT_ORIG_GMT_OFFSET    14271\n",
       "ACT_DEST_GMT_OFFSET    14276\n",
       "month                   4231\n",
       "delay_min              17344\n",
       "is_delay                   0\n",
       "dtype: int64"
      ]
     },
     "execution_count": 9,
     "metadata": {},
     "output_type": "execute_result"
    }
   ],
   "source": [
    "# Find missing data per column\n",
    "\n",
    "df.isnull().sum()"
   ]
  },
  {
   "cell_type": "code",
   "execution_count": 10,
   "metadata": {},
   "outputs": [
    {
     "name": "stdout",
     "output_type": "stream",
     "text": [
      "Missing data in any of the columns:  (17350, 18)\n",
      "Proportion of missing data to total dataset:  0.060972395494719826\n"
     ]
    }
   ],
   "source": [
    "# Any column has missing data?\n",
    "\n",
    "df_nulls = df.loc[df.isnull().any(axis=1)]\n",
    "\n",
    "print(\"Missing data in any of the columns: \",df_nulls.shape)\n",
    "print(\"Proportion of missing data to total dataset: \", df_nulls.shape[0]/df.shape[0])"
   ]
  },
  {
   "cell_type": "markdown",
   "metadata": {},
   "source": [
    "There is quite a bit of missing data, and also some of the data points seems suspicious.  \n",
    "\n",
    "##### Missing Data  \n",
    "\n",
    "- `ACT_ZULU_ARRV_DTTM`: If the actual arrival time is missing, then there is no way of finding the target variable (determining whether the flight was delayed or not), so for the purpose of modeling flight delays, it would not make sense to include them.   \n",
    "- `SKD_ZULU_ARRV_DTTM`: If the scheduled arrival time is missing, similarly it is difficult to determine whether the flight was delayed or not. One assumption that can be made is that scheduled flight time is consistent for the same flight numbers and/or same origin/destination pairs. If the flight time still cannot be determined, then there is no way to determine whether the flight was delayed or not, so those rows will be excluded.\n",
    "\n",
    "(TBC...)"
   ]
  },
  {
   "cell_type": "code",
   "execution_count": 11,
   "metadata": {},
   "outputs": [
    {
     "data": {
      "text/plain": [
       "OPER_CARR_CD              0\n",
       "ACT_ORIG                  0\n",
       "ACT_DEST                  0\n",
       "FLT_NBR                   0\n",
       "ACT_FULL_TAIL_NBR         0\n",
       "ACT_AC_TYPE               0\n",
       "SKD_MILES              1859\n",
       "ACT_TAXI_OUT_MIN          7\n",
       "ACT_TAXI_IN_MIN           5\n",
       "SKD_ZULU_DPTR_DTTM     3068\n",
       "ACT_ZULU_DPTR_DTTM        7\n",
       "SKD_ZULU_ARRV_DTTM     3068\n",
       "ACT_ZULU_ARRV_DTTM        0\n",
       "ACT_ORIG_GMT_OFFSET       7\n",
       "ACT_DEST_GMT_OFFSET       0\n",
       "month                  3068\n",
       "delay_min              3068\n",
       "is_delay                  0\n",
       "dtype: int64"
      ]
     },
     "execution_count": 11,
     "metadata": {},
     "output_type": "execute_result"
    }
   ],
   "source": [
    "# First, exclude the rows where actual arrival time is missing\n",
    "# Again- this is because without the actual arrival, there is no way of knowing whether the flight was delayed or not\n",
    "\n",
    "df_clean = df.loc[df.ACT_ZULU_ARRV_DTTM.notnull()].reset_index(drop=True)\n",
    "\n",
    "# Revist the missing data...\n",
    "\n",
    "df_clean.isnull().sum()"
   ]
  },
  {
   "cell_type": "markdown",
   "metadata": {},
   "source": [
    "##### Assumption: Flight times are consistent for the same flight number and/or destination/origin pairs"
   ]
  },
  {
   "cell_type": "markdown",
   "metadata": {},
   "source": [
    "I will create a `df_schedule` table that will show the scheduled flight time for a given flight number/destination/origin combination, under the assumption that all of these flights will have consistent flight times.  \n",
    "\n",
    "This will aid me in filling the `SKD_ARRV_DTTM` for flights that are missing that value."
   ]
  },
  {
   "cell_type": "code",
   "execution_count": 12,
   "metadata": {},
   "outputs": [
    {
     "data": {
      "text/plain": [
       "array(['PSP', 'ANC', 'SEA', 'SAN'], dtype=object)"
      ]
     },
     "execution_count": 12,
     "metadata": {},
     "output_type": "execute_result"
    }
   ],
   "source": [
    "# Flight number is NOT a unique identifier\n",
    "# I.E. Flight Number 998\n",
    "\n",
    "df_clean.loc[df_clean.FLT_NBR==998].ACT_ORIG.unique()"
   ]
  },
  {
   "cell_type": "code",
   "execution_count": 13,
   "metadata": {},
   "outputs": [
    {
     "data": {
      "text/html": [
       "<div>\n",
       "<style scoped>\n",
       "    .dataframe tbody tr th:only-of-type {\n",
       "        vertical-align: middle;\n",
       "    }\n",
       "\n",
       "    .dataframe tbody tr th {\n",
       "        vertical-align: top;\n",
       "    }\n",
       "\n",
       "    .dataframe thead th {\n",
       "        text-align: right;\n",
       "    }\n",
       "</style>\n",
       "<table border=\"1\" class=\"dataframe\">\n",
       "  <thead>\n",
       "    <tr style=\"text-align: right;\">\n",
       "      <th></th>\n",
       "      <th>OPER_CARR_CD</th>\n",
       "      <th>ACT_ORIG</th>\n",
       "      <th>ACT_DEST</th>\n",
       "      <th>FLT_NBR</th>\n",
       "      <th>SKD_MILES</th>\n",
       "      <th>skd_flight_time</th>\n",
       "    </tr>\n",
       "  </thead>\n",
       "  <tbody>\n",
       "    <tr>\n",
       "      <th>0</th>\n",
       "      <td>OO</td>\n",
       "      <td>SAN</td>\n",
       "      <td>SJC</td>\n",
       "      <td>3405</td>\n",
       "      <td>417.0</td>\n",
       "      <td>93.0</td>\n",
       "    </tr>\n",
       "    <tr>\n",
       "      <th>1</th>\n",
       "      <td>OO</td>\n",
       "      <td>OAK</td>\n",
       "      <td>PDX</td>\n",
       "      <td>3383</td>\n",
       "      <td>543.0</td>\n",
       "      <td>100.0</td>\n",
       "    </tr>\n",
       "    <tr>\n",
       "      <th>2</th>\n",
       "      <td>OO</td>\n",
       "      <td>SFO</td>\n",
       "      <td>SLC</td>\n",
       "      <td>3450</td>\n",
       "      <td>599.0</td>\n",
       "      <td>115.0</td>\n",
       "    </tr>\n",
       "    <tr>\n",
       "      <th>3</th>\n",
       "      <td>OO</td>\n",
       "      <td>SFO</td>\n",
       "      <td>SNA</td>\n",
       "      <td>3319</td>\n",
       "      <td>372.0</td>\n",
       "      <td>97.0</td>\n",
       "    </tr>\n",
       "    <tr>\n",
       "      <th>4</th>\n",
       "      <td>OO</td>\n",
       "      <td>STS</td>\n",
       "      <td>SAN</td>\n",
       "      <td>3379</td>\n",
       "      <td>509.0</td>\n",
       "      <td>95.0</td>\n",
       "    </tr>\n",
       "  </tbody>\n",
       "</table>\n",
       "</div>"
      ],
      "text/plain": [
       "  OPER_CARR_CD ACT_ORIG ACT_DEST  FLT_NBR  SKD_MILES  skd_flight_time\n",
       "0           OO      SAN      SJC     3405      417.0             93.0\n",
       "1           OO      OAK      PDX     3383      543.0            100.0\n",
       "2           OO      SFO      SLC     3450      599.0            115.0\n",
       "3           OO      SFO      SNA     3319      372.0             97.0\n",
       "4           OO      STS      SAN     3379      509.0             95.0"
      ]
     },
     "execution_count": 13,
     "metadata": {},
     "output_type": "execute_result"
    }
   ],
   "source": [
    "# create a copy DataFrame of the Scheduled variables only\n",
    "\n",
    "flight_cols = ['OPER_CARR_CD', 'ACT_ORIG', 'ACT_DEST', 'FLT_NBR','SKD_MILES', 'SKD_ZULU_DPTR_DTTM', 'SKD_ZULU_ARRV_DTTM']\n",
    "\n",
    "flight_times = df_clean[flight_cols].copy()\n",
    "\n",
    "# find the scheduled flight time based on the scheduled departure and arrival times\n",
    "\n",
    "skd_flight_time = pd.to_timedelta(flight_times.SKD_ZULU_ARRV_DTTM - flight_times.SKD_ZULU_DPTR_DTTM)\n",
    "\n",
    "flight_times['skd_flight_time'] = skd_flight_time.dt.total_seconds() / 60 # units = minutes\n",
    "\n",
    "# drop the scheduled times in datetime\n",
    "\n",
    "flight_times = flight_times.drop(columns=['SKD_ZULU_DPTR_DTTM', 'SKD_ZULU_ARRV_DTTM'])\n",
    "\n",
    "flight_times.head()"
   ]
  },
  {
   "cell_type": "code",
   "execution_count": 14,
   "metadata": {},
   "outputs": [
    {
     "data": {
      "text/plain": [
       "ACT_ORIG             0\n",
       "ACT_DEST             0\n",
       "SKD_MILES            0\n",
       "FLT_NBR              0\n",
       "skd_flight_time    868\n",
       "dtype: int64"
      ]
     },
     "execution_count": 14,
     "metadata": {},
     "output_type": "execute_result"
    }
   ],
   "source": [
    "# use the mean of the scheduled flight time\n",
    "\n",
    "df_schedule = flight_times.groupby(['ACT_ORIG', 'ACT_DEST', 'SKD_MILES', 'FLT_NBR']).mean().reset_index()\n",
    "\n",
    "# any still missing values?\n",
    "\n",
    "df_schedule.isnull().sum()"
   ]
  },
  {
   "cell_type": "markdown",
   "metadata": {},
   "source": [
    "There are still some missing values- I will perform a quick spot check to make sure that these flights are indeed ALL missing values in the original dataframe.  "
   ]
  },
  {
   "cell_type": "code",
   "execution_count": 15,
   "metadata": {},
   "outputs": [
    {
     "data": {
      "text/plain": [
       "array([2181, 9565, 9740, 9741, 9743, 9791, 9801, 9802, 9804, 9806, 9809,\n",
       "       9985, 9986, 9987, 9988, 9989, 9990, 9992, 9993, 9994, 9995, 9996,\n",
       "       9998], dtype=int64)"
      ]
     },
     "execution_count": 15,
     "metadata": {},
     "output_type": "execute_result"
    }
   ],
   "source": [
    "# do a quick spot check- \n",
    "# see for SEA/PDX as that would seem to be a frequent flight\n",
    "# find all the flight numbers to do spot check\n",
    "\n",
    "df_schedule.loc[(df_schedule.skd_flight_time.isnull()) & \n",
    "                (df_schedule.ACT_ORIG=='SEA') & \n",
    "                (df_schedule.ACT_DEST=='PDX')].FLT_NBR.unique()"
   ]
  },
  {
   "cell_type": "code",
   "execution_count": 16,
   "metadata": {},
   "outputs": [
    {
     "data": {
      "text/html": [
       "<div>\n",
       "<style scoped>\n",
       "    .dataframe tbody tr th:only-of-type {\n",
       "        vertical-align: middle;\n",
       "    }\n",
       "\n",
       "    .dataframe tbody tr th {\n",
       "        vertical-align: top;\n",
       "    }\n",
       "\n",
       "    .dataframe thead th {\n",
       "        text-align: right;\n",
       "    }\n",
       "</style>\n",
       "<table border=\"1\" class=\"dataframe\">\n",
       "  <thead>\n",
       "    <tr style=\"text-align: right;\">\n",
       "      <th></th>\n",
       "      <th>OPER_CARR_CD</th>\n",
       "      <th>ACT_ORIG</th>\n",
       "      <th>ACT_DEST</th>\n",
       "      <th>FLT_NBR</th>\n",
       "      <th>ACT_FULL_TAIL_NBR</th>\n",
       "      <th>ACT_AC_TYPE</th>\n",
       "      <th>SKD_MILES</th>\n",
       "      <th>ACT_TAXI_OUT_MIN</th>\n",
       "      <th>ACT_TAXI_IN_MIN</th>\n",
       "      <th>SKD_ZULU_DPTR_DTTM</th>\n",
       "      <th>ACT_ZULU_DPTR_DTTM</th>\n",
       "      <th>SKD_ZULU_ARRV_DTTM</th>\n",
       "      <th>ACT_ZULU_ARRV_DTTM</th>\n",
       "      <th>ACT_ORIG_GMT_OFFSET</th>\n",
       "      <th>ACT_DEST_GMT_OFFSET</th>\n",
       "      <th>month</th>\n",
       "      <th>delay_min</th>\n",
       "      <th>is_delay</th>\n",
       "    </tr>\n",
       "  </thead>\n",
       "  <tbody>\n",
       "    <tr>\n",
       "      <th>15249</th>\n",
       "      <td>QX</td>\n",
       "      <td>SEA</td>\n",
       "      <td>PDX</td>\n",
       "      <td>9988</td>\n",
       "      <td>451QX</td>\n",
       "      <td>DH8-400</td>\n",
       "      <td>NaN</td>\n",
       "      <td>13.0</td>\n",
       "      <td>9.0</td>\n",
       "      <td>NaT</td>\n",
       "      <td>2020-03-22 20:08:00</td>\n",
       "      <td>NaT</td>\n",
       "      <td>2020-03-22 20:59:00</td>\n",
       "      <td>-7.0</td>\n",
       "      <td>-7.0</td>\n",
       "      <td>NaN</td>\n",
       "      <td>NaN</td>\n",
       "      <td>-1</td>\n",
       "    </tr>\n",
       "    <tr>\n",
       "      <th>58992</th>\n",
       "      <td>QX</td>\n",
       "      <td>SEA</td>\n",
       "      <td>PDX</td>\n",
       "      <td>9988</td>\n",
       "      <td>401QX</td>\n",
       "      <td>DH8-400</td>\n",
       "      <td>0.0</td>\n",
       "      <td>13.0</td>\n",
       "      <td>8.0</td>\n",
       "      <td>NaT</td>\n",
       "      <td>2020-12-27 03:36:00</td>\n",
       "      <td>NaT</td>\n",
       "      <td>2020-12-27 04:27:00</td>\n",
       "      <td>-8.0</td>\n",
       "      <td>-8.0</td>\n",
       "      <td>NaN</td>\n",
       "      <td>NaN</td>\n",
       "      <td>-1</td>\n",
       "    </tr>\n",
       "    <tr>\n",
       "      <th>63118</th>\n",
       "      <td>QX</td>\n",
       "      <td>SEA</td>\n",
       "      <td>PDX</td>\n",
       "      <td>9988</td>\n",
       "      <td>630QX</td>\n",
       "      <td>E175</td>\n",
       "      <td>NaN</td>\n",
       "      <td>15.0</td>\n",
       "      <td>6.0</td>\n",
       "      <td>NaT</td>\n",
       "      <td>2020-03-15 05:55:00</td>\n",
       "      <td>NaT</td>\n",
       "      <td>2020-03-15 06:49:00</td>\n",
       "      <td>-7.0</td>\n",
       "      <td>-7.0</td>\n",
       "      <td>NaN</td>\n",
       "      <td>NaN</td>\n",
       "      <td>-1</td>\n",
       "    </tr>\n",
       "    <tr>\n",
       "      <th>84747</th>\n",
       "      <td>QX</td>\n",
       "      <td>SEA</td>\n",
       "      <td>PDX</td>\n",
       "      <td>9988</td>\n",
       "      <td>629QX</td>\n",
       "      <td>E175</td>\n",
       "      <td>0.0</td>\n",
       "      <td>NaN</td>\n",
       "      <td>NaN</td>\n",
       "      <td>NaT</td>\n",
       "      <td>NaT</td>\n",
       "      <td>NaT</td>\n",
       "      <td>NaT</td>\n",
       "      <td>NaN</td>\n",
       "      <td>NaN</td>\n",
       "      <td>NaN</td>\n",
       "      <td>NaN</td>\n",
       "      <td>-1</td>\n",
       "    </tr>\n",
       "    <tr>\n",
       "      <th>130383</th>\n",
       "      <td>QX</td>\n",
       "      <td>SEA</td>\n",
       "      <td>PDX</td>\n",
       "      <td>9988</td>\n",
       "      <td>450QX</td>\n",
       "      <td>DH8-400</td>\n",
       "      <td>0.0</td>\n",
       "      <td>NaN</td>\n",
       "      <td>NaN</td>\n",
       "      <td>NaT</td>\n",
       "      <td>NaT</td>\n",
       "      <td>NaT</td>\n",
       "      <td>NaT</td>\n",
       "      <td>NaN</td>\n",
       "      <td>NaN</td>\n",
       "      <td>NaN</td>\n",
       "      <td>NaN</td>\n",
       "      <td>-1</td>\n",
       "    </tr>\n",
       "    <tr>\n",
       "      <th>135836</th>\n",
       "      <td>QX</td>\n",
       "      <td>SEA</td>\n",
       "      <td>PDX</td>\n",
       "      <td>9988</td>\n",
       "      <td>628QX</td>\n",
       "      <td>E175</td>\n",
       "      <td>0.0</td>\n",
       "      <td>13.0</td>\n",
       "      <td>3.0</td>\n",
       "      <td>NaT</td>\n",
       "      <td>2021-01-15 16:58:00</td>\n",
       "      <td>NaT</td>\n",
       "      <td>2021-01-15 17:41:00</td>\n",
       "      <td>-8.0</td>\n",
       "      <td>-8.0</td>\n",
       "      <td>NaN</td>\n",
       "      <td>NaN</td>\n",
       "      <td>-1</td>\n",
       "    </tr>\n",
       "    <tr>\n",
       "      <th>152028</th>\n",
       "      <td>QX</td>\n",
       "      <td>SEA</td>\n",
       "      <td>PDX</td>\n",
       "      <td>9988</td>\n",
       "      <td>651QX</td>\n",
       "      <td>E175</td>\n",
       "      <td>0.0</td>\n",
       "      <td>14.0</td>\n",
       "      <td>4.0</td>\n",
       "      <td>NaT</td>\n",
       "      <td>2021-01-12 16:43:00</td>\n",
       "      <td>NaT</td>\n",
       "      <td>2021-01-12 17:31:00</td>\n",
       "      <td>-8.0</td>\n",
       "      <td>-8.0</td>\n",
       "      <td>NaN</td>\n",
       "      <td>NaN</td>\n",
       "      <td>-1</td>\n",
       "    </tr>\n",
       "    <tr>\n",
       "      <th>246056</th>\n",
       "      <td>QX</td>\n",
       "      <td>SEA</td>\n",
       "      <td>PDX</td>\n",
       "      <td>9988</td>\n",
       "      <td>436QX</td>\n",
       "      <td>DH8-400</td>\n",
       "      <td>NaN</td>\n",
       "      <td>13.0</td>\n",
       "      <td>4.0</td>\n",
       "      <td>NaT</td>\n",
       "      <td>2020-07-08 16:50:00</td>\n",
       "      <td>NaT</td>\n",
       "      <td>2020-07-08 17:45:00</td>\n",
       "      <td>-7.0</td>\n",
       "      <td>-7.0</td>\n",
       "      <td>NaN</td>\n",
       "      <td>NaN</td>\n",
       "      <td>-1</td>\n",
       "    </tr>\n",
       "  </tbody>\n",
       "</table>\n",
       "</div>"
      ],
      "text/plain": [
       "       OPER_CARR_CD ACT_ORIG ACT_DEST  FLT_NBR ACT_FULL_TAIL_NBR ACT_AC_TYPE  \\\n",
       "15249            QX      SEA      PDX     9988             451QX     DH8-400   \n",
       "58992            QX      SEA      PDX     9988             401QX     DH8-400   \n",
       "63118            QX      SEA      PDX     9988             630QX        E175   \n",
       "84747            QX      SEA      PDX     9988             629QX        E175   \n",
       "130383           QX      SEA      PDX     9988             450QX     DH8-400   \n",
       "135836           QX      SEA      PDX     9988             628QX        E175   \n",
       "152028           QX      SEA      PDX     9988             651QX        E175   \n",
       "246056           QX      SEA      PDX     9988             436QX     DH8-400   \n",
       "\n",
       "        SKD_MILES  ACT_TAXI_OUT_MIN  ACT_TAXI_IN_MIN SKD_ZULU_DPTR_DTTM  \\\n",
       "15249         NaN              13.0              9.0                NaT   \n",
       "58992         0.0              13.0              8.0                NaT   \n",
       "63118         NaN              15.0              6.0                NaT   \n",
       "84747         0.0               NaN              NaN                NaT   \n",
       "130383        0.0               NaN              NaN                NaT   \n",
       "135836        0.0              13.0              3.0                NaT   \n",
       "152028        0.0              14.0              4.0                NaT   \n",
       "246056        NaN              13.0              4.0                NaT   \n",
       "\n",
       "        ACT_ZULU_DPTR_DTTM SKD_ZULU_ARRV_DTTM  ACT_ZULU_ARRV_DTTM  \\\n",
       "15249  2020-03-22 20:08:00                NaT 2020-03-22 20:59:00   \n",
       "58992  2020-12-27 03:36:00                NaT 2020-12-27 04:27:00   \n",
       "63118  2020-03-15 05:55:00                NaT 2020-03-15 06:49:00   \n",
       "84747                  NaT                NaT                 NaT   \n",
       "130383                 NaT                NaT                 NaT   \n",
       "135836 2021-01-15 16:58:00                NaT 2021-01-15 17:41:00   \n",
       "152028 2021-01-12 16:43:00                NaT 2021-01-12 17:31:00   \n",
       "246056 2020-07-08 16:50:00                NaT 2020-07-08 17:45:00   \n",
       "\n",
       "        ACT_ORIG_GMT_OFFSET  ACT_DEST_GMT_OFFSET month  delay_min  is_delay  \n",
       "15249                  -7.0                 -7.0   NaN        NaN        -1  \n",
       "58992                  -8.0                 -8.0   NaN        NaN        -1  \n",
       "63118                  -7.0                 -7.0   NaN        NaN        -1  \n",
       "84747                   NaN                  NaN   NaN        NaN        -1  \n",
       "130383                  NaN                  NaN   NaN        NaN        -1  \n",
       "135836                 -8.0                 -8.0   NaN        NaN        -1  \n",
       "152028                 -8.0                 -8.0   NaN        NaN        -1  \n",
       "246056                 -7.0                 -7.0   NaN        NaN        -1  "
      ]
     },
     "execution_count": 16,
     "metadata": {},
     "output_type": "execute_result"
    }
   ],
   "source": [
    "# Are all the rows for this particular flight number/origin/destination missing scheduled time?\n",
    "\n",
    "df.loc[(df.ACT_ORIG=='SEA') & (df.ACT_DEST=='PDX') & (df.FLT_NBR==9988)]"
   ]
  },
  {
   "cell_type": "markdown",
   "metadata": {},
   "source": [
    "All of the flights for this given flight number/origin/departure combination are missing scheduled departure/arrival times.  \n",
    "\n",
    "I could assume that all of the same origin/departure pairs have the same flight times, but absent an explicit definition I believe that would be too much of a leap- it could also be affected by time of day, etc.  \n",
    "\n",
    "I am comfortable assuming that all the `NaN` values in `df_schedule` are indeed missing values, and will drop these from the schedule table.  \n",
    "For the ones that have calculated `skd_flight_time` values, I will use that to compute `SKD_ZULU_ARRV_DTTM` in the cleaned table."
   ]
  },
  {
   "cell_type": "code",
   "execution_count": 17,
   "metadata": {},
   "outputs": [
    {
     "data": {
      "text/plain": [
       "ACT_ORIG           0\n",
       "ACT_DEST           0\n",
       "SKD_MILES          0\n",
       "FLT_NBR            0\n",
       "skd_flight_time    0\n",
       "dtype: int64"
      ]
     },
     "execution_count": 17,
     "metadata": {},
     "output_type": "execute_result"
    }
   ],
   "source": [
    "# drop the missing values\n",
    "\n",
    "df_schedule_clean = df_schedule.loc[df_schedule.skd_flight_time.notnull()]\n",
    "\n",
    "# any still missing?\n",
    "\n",
    "df_schedule_clean.isnull().sum()"
   ]
  },
  {
   "cell_type": "code",
   "execution_count": 18,
   "metadata": {},
   "outputs": [
    {
     "data": {
      "text/plain": [
       "OPER_CARR_CD             0\n",
       "ACT_ORIG                 0\n",
       "ACT_DEST                 0\n",
       "FLT_NBR                  0\n",
       "ACT_FULL_TAIL_NBR        0\n",
       "ACT_AC_TYPE              0\n",
       "SKD_MILES               86\n",
       "ACT_TAXI_OUT_MIN         6\n",
       "ACT_TAXI_IN_MIN          5\n",
       "SKD_ZULU_DPTR_DTTM     108\n",
       "ACT_ZULU_DPTR_DTTM       6\n",
       "SKD_ZULU_ARRV_DTTM     108\n",
       "ACT_ZULU_ARRV_DTTM       0\n",
       "ACT_ORIG_GMT_OFFSET      6\n",
       "ACT_DEST_GMT_OFFSET      0\n",
       "month                  108\n",
       "delay_min              108\n",
       "is_delay                 0\n",
       "skd_flight_time          0\n",
       "dtype: int64"
      ]
     },
     "execution_count": 18,
     "metadata": {},
     "output_type": "execute_result"
    }
   ],
   "source": [
    "# first drop the scheduled miles as this will duplicate\n",
    "df_schedule_clean_2 = df_schedule_clean.drop(columns=['SKD_MILES'])\n",
    "\n",
    "# merge the scheduled flight time to the cleaned dataframe\n",
    "df_clean_2 = df_clean.merge(df_schedule_clean_2, on = ['ACT_ORIG', 'ACT_DEST', 'FLT_NBR'])\n",
    "\n",
    "# use the scheduled flight time to calculate scheduled arrival where it is missing\n",
    "calc_arrv = pd.to_timedelta(df_clean_2.skd_flight_time, 'm') + df_clean_2.SKD_ZULU_DPTR_DTTM\n",
    "df_clean_2.SKD_ZULU_ARRV_DTTM.fillna(calc_arrv, inplace=True)\n",
    "\n",
    "# any still missing?\n",
    "df_clean_2.isnull().sum()"
   ]
  },
  {
   "cell_type": "markdown",
   "metadata": {},
   "source": [
    "##### Missing data (cont.)  \n",
    "\n",
    "Most of the missing values have been filled by the calculated flight times. The rest of the empty values are a very small portion of the entire dataset, so I am comfortable with just dropping these values."
   ]
  },
  {
   "cell_type": "code",
   "execution_count": 19,
   "metadata": {},
   "outputs": [
    {
     "data": {
      "text/html": [
       "<div>\n",
       "<style scoped>\n",
       "    .dataframe tbody tr th:only-of-type {\n",
       "        vertical-align: middle;\n",
       "    }\n",
       "\n",
       "    .dataframe tbody tr th {\n",
       "        vertical-align: top;\n",
       "    }\n",
       "\n",
       "    .dataframe thead th {\n",
       "        text-align: right;\n",
       "    }\n",
       "</style>\n",
       "<table border=\"1\" class=\"dataframe\">\n",
       "  <thead>\n",
       "    <tr style=\"text-align: right;\">\n",
       "      <th></th>\n",
       "      <th>FLT_NBR</th>\n",
       "      <th>SKD_MILES</th>\n",
       "      <th>ACT_TAXI_OUT_MIN</th>\n",
       "      <th>ACT_TAXI_IN_MIN</th>\n",
       "      <th>ACT_ORIG_GMT_OFFSET</th>\n",
       "      <th>ACT_DEST_GMT_OFFSET</th>\n",
       "      <th>delay_min</th>\n",
       "      <th>is_delay</th>\n",
       "      <th>skd_flight_time</th>\n",
       "    </tr>\n",
       "  </thead>\n",
       "  <tbody>\n",
       "    <tr>\n",
       "      <th>count</th>\n",
       "      <td>270255.000000</td>\n",
       "      <td>270255.000000</td>\n",
       "      <td>270255.000000</td>\n",
       "      <td>270255.000000</td>\n",
       "      <td>270255.000000</td>\n",
       "      <td>270255.000000</td>\n",
       "      <td>270255.000000</td>\n",
       "      <td>270255.000000</td>\n",
       "      <td>270255.000000</td>\n",
       "    </tr>\n",
       "    <tr>\n",
       "      <th>mean</th>\n",
       "      <td>1941.432099</td>\n",
       "      <td>893.855141</td>\n",
       "      <td>14.344652</td>\n",
       "      <td>5.870763</td>\n",
       "      <td>-7.266193</td>\n",
       "      <td>-7.264935</td>\n",
       "      <td>-5.590416</td>\n",
       "      <td>-0.792922</td>\n",
       "      <td>148.636736</td>\n",
       "    </tr>\n",
       "    <tr>\n",
       "      <th>std</th>\n",
       "      <td>1559.669366</td>\n",
       "      <td>693.848835</td>\n",
       "      <td>6.861962</td>\n",
       "      <td>4.341070</td>\n",
       "      <td>1.014387</td>\n",
       "      <td>1.016581</td>\n",
       "      <td>28.870612</td>\n",
       "      <td>0.609325</td>\n",
       "      <td>86.718737</td>\n",
       "    </tr>\n",
       "    <tr>\n",
       "      <th>min</th>\n",
       "      <td>1.000000</td>\n",
       "      <td>11.000000</td>\n",
       "      <td>-26.000000</td>\n",
       "      <td>-142.000000</td>\n",
       "      <td>-10.000000</td>\n",
       "      <td>-10.000000</td>\n",
       "      <td>-1241.000000</td>\n",
       "      <td>-1.000000</td>\n",
       "      <td>20.333333</td>\n",
       "    </tr>\n",
       "    <tr>\n",
       "      <th>25%</th>\n",
       "      <td>669.000000</td>\n",
       "      <td>376.000000</td>\n",
       "      <td>10.000000</td>\n",
       "      <td>4.000000</td>\n",
       "      <td>-8.000000</td>\n",
       "      <td>-8.000000</td>\n",
       "      <td>-18.000000</td>\n",
       "      <td>-1.000000</td>\n",
       "      <td>85.333333</td>\n",
       "    </tr>\n",
       "    <tr>\n",
       "      <th>50%</th>\n",
       "      <td>2101.000000</td>\n",
       "      <td>688.000000</td>\n",
       "      <td>13.000000</td>\n",
       "      <td>5.000000</td>\n",
       "      <td>-7.000000</td>\n",
       "      <td>-7.000000</td>\n",
       "      <td>-10.000000</td>\n",
       "      <td>-1.000000</td>\n",
       "      <td>128.289157</td>\n",
       "    </tr>\n",
       "    <tr>\n",
       "      <th>75%</th>\n",
       "      <td>2805.000000</td>\n",
       "      <td>1133.000000</td>\n",
       "      <td>17.000000</td>\n",
       "      <td>7.000000</td>\n",
       "      <td>-7.000000</td>\n",
       "      <td>-7.000000</td>\n",
       "      <td>0.000000</td>\n",
       "      <td>-1.000000</td>\n",
       "      <td>182.162011</td>\n",
       "    </tr>\n",
       "    <tr>\n",
       "      <th>max</th>\n",
       "      <td>9989.000000</td>\n",
       "      <td>2899.000000</td>\n",
       "      <td>207.000000</td>\n",
       "      <td>217.000000</td>\n",
       "      <td>-4.000000</td>\n",
       "      <td>-4.000000</td>\n",
       "      <td>758.000000</td>\n",
       "      <td>1.000000</td>\n",
       "      <td>427.833333</td>\n",
       "    </tr>\n",
       "  </tbody>\n",
       "</table>\n",
       "</div>"
      ],
      "text/plain": [
       "             FLT_NBR      SKD_MILES  ACT_TAXI_OUT_MIN  ACT_TAXI_IN_MIN  \\\n",
       "count  270255.000000  270255.000000     270255.000000    270255.000000   \n",
       "mean     1941.432099     893.855141         14.344652         5.870763   \n",
       "std      1559.669366     693.848835          6.861962         4.341070   \n",
       "min         1.000000      11.000000        -26.000000      -142.000000   \n",
       "25%       669.000000     376.000000         10.000000         4.000000   \n",
       "50%      2101.000000     688.000000         13.000000         5.000000   \n",
       "75%      2805.000000    1133.000000         17.000000         7.000000   \n",
       "max      9989.000000    2899.000000        207.000000       217.000000   \n",
       "\n",
       "       ACT_ORIG_GMT_OFFSET  ACT_DEST_GMT_OFFSET      delay_min       is_delay  \\\n",
       "count        270255.000000        270255.000000  270255.000000  270255.000000   \n",
       "mean             -7.266193            -7.264935      -5.590416      -0.792922   \n",
       "std               1.014387             1.016581      28.870612       0.609325   \n",
       "min             -10.000000           -10.000000   -1241.000000      -1.000000   \n",
       "25%              -8.000000            -8.000000     -18.000000      -1.000000   \n",
       "50%              -7.000000            -7.000000     -10.000000      -1.000000   \n",
       "75%              -7.000000            -7.000000       0.000000      -1.000000   \n",
       "max              -4.000000            -4.000000     758.000000       1.000000   \n",
       "\n",
       "       skd_flight_time  \n",
       "count    270255.000000  \n",
       "mean        148.636736  \n",
       "std          86.718737  \n",
       "min          20.333333  \n",
       "25%          85.333333  \n",
       "50%         128.289157  \n",
       "75%         182.162011  \n",
       "max         427.833333  "
      ]
     },
     "execution_count": 19,
     "metadata": {},
     "output_type": "execute_result"
    }
   ],
   "source": [
    "# drop all remaining missing values\n",
    "df_clean_3 = df_clean_2.dropna()\n",
    "\n",
    "#review the current df\n",
    "df_clean_3.describe()"
   ]
  },
  {
   "cell_type": "markdown",
   "metadata": {},
   "source": [
    "##### Suspicious Data?  \n",
    "\n",
    "- Scheduled Miles: the minimum value is 11- is this correct? \n",
    "- Taxi minutes (both in and out): the minimum value is negative. As negative taxi minutes is nonsensical, these rows should be excluded.\n",
    "- Any outliers in `delay_min`? Minimum value is almost 1 day (20 hours)"
   ]
  },
  {
   "cell_type": "code",
   "execution_count": 20,
   "metadata": {},
   "outputs": [
    {
     "data": {
      "text/html": [
       "<div>\n",
       "<style scoped>\n",
       "    .dataframe tbody tr th:only-of-type {\n",
       "        vertical-align: middle;\n",
       "    }\n",
       "\n",
       "    .dataframe tbody tr th {\n",
       "        vertical-align: top;\n",
       "    }\n",
       "\n",
       "    .dataframe thead th {\n",
       "        text-align: right;\n",
       "    }\n",
       "</style>\n",
       "<table border=\"1\" class=\"dataframe\">\n",
       "  <thead>\n",
       "    <tr style=\"text-align: right;\">\n",
       "      <th></th>\n",
       "      <th>OPER_CARR_CD</th>\n",
       "      <th>ACT_ORIG</th>\n",
       "      <th>ACT_DEST</th>\n",
       "      <th>FLT_NBR</th>\n",
       "      <th>ACT_FULL_TAIL_NBR</th>\n",
       "      <th>ACT_AC_TYPE</th>\n",
       "      <th>SKD_MILES</th>\n",
       "      <th>ACT_TAXI_OUT_MIN</th>\n",
       "      <th>ACT_TAXI_IN_MIN</th>\n",
       "      <th>SKD_ZULU_DPTR_DTTM</th>\n",
       "      <th>ACT_ZULU_DPTR_DTTM</th>\n",
       "      <th>SKD_ZULU_ARRV_DTTM</th>\n",
       "      <th>ACT_ZULU_ARRV_DTTM</th>\n",
       "      <th>ACT_ORIG_GMT_OFFSET</th>\n",
       "      <th>ACT_DEST_GMT_OFFSET</th>\n",
       "      <th>month</th>\n",
       "      <th>delay_min</th>\n",
       "      <th>is_delay</th>\n",
       "      <th>skd_flight_time</th>\n",
       "    </tr>\n",
       "  </thead>\n",
       "  <tbody>\n",
       "    <tr>\n",
       "      <th>47722</th>\n",
       "      <td>OO</td>\n",
       "      <td>SEA</td>\n",
       "      <td>FAT</td>\n",
       "      <td>3490</td>\n",
       "      <td>174SY</td>\n",
       "      <td>E175</td>\n",
       "      <td>748.0</td>\n",
       "      <td>18.0</td>\n",
       "      <td>-142.0</td>\n",
       "      <td>2020-03-16 01:25:00</td>\n",
       "      <td>2020-03-16 01:17:00</td>\n",
       "      <td>2020-03-16 03:37:00</td>\n",
       "      <td>2020-03-16 01:19:00</td>\n",
       "      <td>-7.0</td>\n",
       "      <td>-7.0</td>\n",
       "      <td>March</td>\n",
       "      <td>-138.0</td>\n",
       "      <td>-1</td>\n",
       "      <td>127.095</td>\n",
       "    </tr>\n",
       "    <tr>\n",
       "      <th>99063</th>\n",
       "      <td>QX</td>\n",
       "      <td>SEA</td>\n",
       "      <td>BLI</td>\n",
       "      <td>2486</td>\n",
       "      <td>432QX</td>\n",
       "      <td>DH8-400</td>\n",
       "      <td>93.0</td>\n",
       "      <td>-26.0</td>\n",
       "      <td>4.0</td>\n",
       "      <td>2020-03-03 16:30:00</td>\n",
       "      <td>2020-03-03 16:20:00</td>\n",
       "      <td>2020-03-03 17:21:00</td>\n",
       "      <td>2020-03-03 16:21:00</td>\n",
       "      <td>-8.0</td>\n",
       "      <td>-8.0</td>\n",
       "      <td>March</td>\n",
       "      <td>-60.0</td>\n",
       "      <td>-1</td>\n",
       "      <td>51.000</td>\n",
       "    </tr>\n",
       "  </tbody>\n",
       "</table>\n",
       "</div>"
      ],
      "text/plain": [
       "      OPER_CARR_CD ACT_ORIG ACT_DEST  FLT_NBR ACT_FULL_TAIL_NBR ACT_AC_TYPE  \\\n",
       "47722           OO      SEA      FAT     3490             174SY        E175   \n",
       "99063           QX      SEA      BLI     2486             432QX     DH8-400   \n",
       "\n",
       "       SKD_MILES  ACT_TAXI_OUT_MIN  ACT_TAXI_IN_MIN  SKD_ZULU_DPTR_DTTM  \\\n",
       "47722      748.0              18.0           -142.0 2020-03-16 01:25:00   \n",
       "99063       93.0             -26.0              4.0 2020-03-03 16:30:00   \n",
       "\n",
       "       ACT_ZULU_DPTR_DTTM  SKD_ZULU_ARRV_DTTM  ACT_ZULU_ARRV_DTTM  \\\n",
       "47722 2020-03-16 01:17:00 2020-03-16 03:37:00 2020-03-16 01:19:00   \n",
       "99063 2020-03-03 16:20:00 2020-03-03 17:21:00 2020-03-03 16:21:00   \n",
       "\n",
       "       ACT_ORIG_GMT_OFFSET  ACT_DEST_GMT_OFFSET  month  delay_min  is_delay  \\\n",
       "47722                 -7.0                 -7.0  March     -138.0        -1   \n",
       "99063                 -8.0                 -8.0  March      -60.0        -1   \n",
       "\n",
       "       skd_flight_time  \n",
       "47722          127.095  \n",
       "99063           51.000  "
      ]
     },
     "execution_count": 20,
     "metadata": {},
     "output_type": "execute_result"
    }
   ],
   "source": [
    "# negative taxi time?\n",
    "neg_taxi = df_clean_3.loc[(df_clean_3.ACT_TAXI_IN_MIN < 0) | (df_clean_3.ACT_TAXI_OUT_MIN < 0)]\n",
    "neg_taxi.head()"
   ]
  },
  {
   "cell_type": "code",
   "execution_count": 21,
   "metadata": {},
   "outputs": [],
   "source": [
    "# just two rows- believe it's safe to discard these\n",
    "df_clean_4 = df_clean_3.drop(neg_taxi.index).reset_index(drop=True)"
   ]
  },
  {
   "cell_type": "code",
   "execution_count": 22,
   "metadata": {},
   "outputs": [
    {
     "data": {
      "text/html": [
       "<div>\n",
       "<style scoped>\n",
       "    .dataframe tbody tr th:only-of-type {\n",
       "        vertical-align: middle;\n",
       "    }\n",
       "\n",
       "    .dataframe tbody tr th {\n",
       "        vertical-align: top;\n",
       "    }\n",
       "\n",
       "    .dataframe thead th {\n",
       "        text-align: right;\n",
       "    }\n",
       "</style>\n",
       "<table border=\"1\" class=\"dataframe\">\n",
       "  <thead>\n",
       "    <tr style=\"text-align: right;\">\n",
       "      <th></th>\n",
       "      <th>OPER_CARR_CD</th>\n",
       "      <th>ACT_ORIG</th>\n",
       "      <th>ACT_DEST</th>\n",
       "      <th>FLT_NBR</th>\n",
       "      <th>ACT_FULL_TAIL_NBR</th>\n",
       "      <th>ACT_AC_TYPE</th>\n",
       "      <th>SKD_MILES</th>\n",
       "      <th>ACT_TAXI_OUT_MIN</th>\n",
       "      <th>ACT_TAXI_IN_MIN</th>\n",
       "      <th>SKD_ZULU_DPTR_DTTM</th>\n",
       "      <th>ACT_ZULU_DPTR_DTTM</th>\n",
       "      <th>SKD_ZULU_ARRV_DTTM</th>\n",
       "      <th>ACT_ZULU_ARRV_DTTM</th>\n",
       "      <th>ACT_ORIG_GMT_OFFSET</th>\n",
       "      <th>ACT_DEST_GMT_OFFSET</th>\n",
       "      <th>month</th>\n",
       "      <th>delay_min</th>\n",
       "      <th>is_delay</th>\n",
       "      <th>skd_flight_time</th>\n",
       "    </tr>\n",
       "  </thead>\n",
       "  <tbody>\n",
       "    <tr>\n",
       "      <th>125464</th>\n",
       "      <td>AS</td>\n",
       "      <td>OAK</td>\n",
       "      <td>SFO</td>\n",
       "      <td>9717</td>\n",
       "      <td>284AK</td>\n",
       "      <td>737-900R</td>\n",
       "      <td>11.0</td>\n",
       "      <td>20.0</td>\n",
       "      <td>5.0</td>\n",
       "      <td>2020-03-12 02:10:00</td>\n",
       "      <td>2020-03-12 02:49:00</td>\n",
       "      <td>2020-03-12 03:10:00</td>\n",
       "      <td>2020-03-12 03:34:00</td>\n",
       "      <td>-7.0</td>\n",
       "      <td>-7.0</td>\n",
       "      <td>March</td>\n",
       "      <td>24.0</td>\n",
       "      <td>1</td>\n",
       "      <td>60.0</td>\n",
       "    </tr>\n",
       "    <tr>\n",
       "      <th>125465</th>\n",
       "      <td>AS</td>\n",
       "      <td>OAK</td>\n",
       "      <td>SFO</td>\n",
       "      <td>9717</td>\n",
       "      <td>287AK</td>\n",
       "      <td>737-900R</td>\n",
       "      <td>11.0</td>\n",
       "      <td>11.0</td>\n",
       "      <td>10.0</td>\n",
       "      <td>2020-03-11 02:30:00</td>\n",
       "      <td>2020-03-11 04:14:00</td>\n",
       "      <td>2020-03-11 03:30:00</td>\n",
       "      <td>2020-03-11 04:45:00</td>\n",
       "      <td>-7.0</td>\n",
       "      <td>-7.0</td>\n",
       "      <td>March</td>\n",
       "      <td>75.0</td>\n",
       "      <td>1</td>\n",
       "      <td>60.0</td>\n",
       "    </tr>\n",
       "    <tr>\n",
       "      <th>125466</th>\n",
       "      <td>AS</td>\n",
       "      <td>OAK</td>\n",
       "      <td>SFO</td>\n",
       "      <td>9717</td>\n",
       "      <td>440AS</td>\n",
       "      <td>737-900E</td>\n",
       "      <td>11.0</td>\n",
       "      <td>21.0</td>\n",
       "      <td>10.0</td>\n",
       "      <td>2020-03-05 03:30:00</td>\n",
       "      <td>2020-03-05 03:47:00</td>\n",
       "      <td>2020-03-05 04:30:00</td>\n",
       "      <td>2020-03-05 04:33:00</td>\n",
       "      <td>-8.0</td>\n",
       "      <td>-8.0</td>\n",
       "      <td>March</td>\n",
       "      <td>3.0</td>\n",
       "      <td>-1</td>\n",
       "      <td>60.0</td>\n",
       "    </tr>\n",
       "    <tr>\n",
       "      <th>149596</th>\n",
       "      <td>AS</td>\n",
       "      <td>SFO</td>\n",
       "      <td>OAK</td>\n",
       "      <td>9716</td>\n",
       "      <td>493AS</td>\n",
       "      <td>737-900E</td>\n",
       "      <td>11.0</td>\n",
       "      <td>28.0</td>\n",
       "      <td>5.0</td>\n",
       "      <td>2020-03-03 15:45:00</td>\n",
       "      <td>2020-03-03 17:44:00</td>\n",
       "      <td>2020-03-03 16:30:00</td>\n",
       "      <td>2020-03-03 18:27:00</td>\n",
       "      <td>-8.0</td>\n",
       "      <td>-8.0</td>\n",
       "      <td>March</td>\n",
       "      <td>117.0</td>\n",
       "      <td>1</td>\n",
       "      <td>45.0</td>\n",
       "    </tr>\n",
       "  </tbody>\n",
       "</table>\n",
       "</div>"
      ],
      "text/plain": [
       "       OPER_CARR_CD ACT_ORIG ACT_DEST  FLT_NBR ACT_FULL_TAIL_NBR ACT_AC_TYPE  \\\n",
       "125464           AS      OAK      SFO     9717             284AK    737-900R   \n",
       "125465           AS      OAK      SFO     9717             287AK    737-900R   \n",
       "125466           AS      OAK      SFO     9717             440AS    737-900E   \n",
       "149596           AS      SFO      OAK     9716             493AS    737-900E   \n",
       "\n",
       "        SKD_MILES  ACT_TAXI_OUT_MIN  ACT_TAXI_IN_MIN  SKD_ZULU_DPTR_DTTM  \\\n",
       "125464       11.0              20.0              5.0 2020-03-12 02:10:00   \n",
       "125465       11.0              11.0             10.0 2020-03-11 02:30:00   \n",
       "125466       11.0              21.0             10.0 2020-03-05 03:30:00   \n",
       "149596       11.0              28.0              5.0 2020-03-03 15:45:00   \n",
       "\n",
       "        ACT_ZULU_DPTR_DTTM  SKD_ZULU_ARRV_DTTM  ACT_ZULU_ARRV_DTTM  \\\n",
       "125464 2020-03-12 02:49:00 2020-03-12 03:10:00 2020-03-12 03:34:00   \n",
       "125465 2020-03-11 04:14:00 2020-03-11 03:30:00 2020-03-11 04:45:00   \n",
       "125466 2020-03-05 03:47:00 2020-03-05 04:30:00 2020-03-05 04:33:00   \n",
       "149596 2020-03-03 17:44:00 2020-03-03 16:30:00 2020-03-03 18:27:00   \n",
       "\n",
       "        ACT_ORIG_GMT_OFFSET  ACT_DEST_GMT_OFFSET  month  delay_min  is_delay  \\\n",
       "125464                 -7.0                 -7.0  March       24.0         1   \n",
       "125465                 -7.0                 -7.0  March       75.0         1   \n",
       "125466                 -8.0                 -8.0  March        3.0        -1   \n",
       "149596                 -8.0                 -8.0  March      117.0         1   \n",
       "\n",
       "        skd_flight_time  \n",
       "125464             60.0  \n",
       "125465             60.0  \n",
       "125466             60.0  \n",
       "149596             45.0  "
      ]
     },
     "execution_count": 22,
     "metadata": {},
     "output_type": "execute_result"
    }
   ],
   "source": [
    "# scheduled miles- is 11 miles correct?\n",
    "df_clean_4.loc[df_clean_4.SKD_MILES < 20]"
   ]
  },
  {
   "cell_type": "markdown",
   "metadata": {},
   "source": [
    "11 miles seemed to be a very short flight, but apparently there are flights between San Francisco and Oakland! "
   ]
  },
  {
   "cell_type": "code",
   "execution_count": 23,
   "metadata": {},
   "outputs": [
    {
     "data": {
      "text/html": [
       "<div>\n",
       "<style scoped>\n",
       "    .dataframe tbody tr th:only-of-type {\n",
       "        vertical-align: middle;\n",
       "    }\n",
       "\n",
       "    .dataframe tbody tr th {\n",
       "        vertical-align: top;\n",
       "    }\n",
       "\n",
       "    .dataframe thead th {\n",
       "        text-align: right;\n",
       "    }\n",
       "</style>\n",
       "<table border=\"1\" class=\"dataframe\">\n",
       "  <thead>\n",
       "    <tr style=\"text-align: right;\">\n",
       "      <th></th>\n",
       "      <th>OPER_CARR_CD</th>\n",
       "      <th>ACT_ORIG</th>\n",
       "      <th>ACT_DEST</th>\n",
       "      <th>FLT_NBR</th>\n",
       "      <th>ACT_FULL_TAIL_NBR</th>\n",
       "      <th>ACT_AC_TYPE</th>\n",
       "      <th>SKD_MILES</th>\n",
       "      <th>ACT_TAXI_OUT_MIN</th>\n",
       "      <th>ACT_TAXI_IN_MIN</th>\n",
       "      <th>SKD_ZULU_DPTR_DTTM</th>\n",
       "      <th>ACT_ZULU_DPTR_DTTM</th>\n",
       "      <th>SKD_ZULU_ARRV_DTTM</th>\n",
       "      <th>ACT_ZULU_ARRV_DTTM</th>\n",
       "      <th>ACT_ORIG_GMT_OFFSET</th>\n",
       "      <th>ACT_DEST_GMT_OFFSET</th>\n",
       "      <th>month</th>\n",
       "      <th>delay_min</th>\n",
       "      <th>is_delay</th>\n",
       "      <th>skd_flight_time</th>\n",
       "    </tr>\n",
       "  </thead>\n",
       "  <tbody>\n",
       "    <tr>\n",
       "      <th>56503</th>\n",
       "      <td>AS</td>\n",
       "      <td>SEA</td>\n",
       "      <td>ANC</td>\n",
       "      <td>105</td>\n",
       "      <td>457AS</td>\n",
       "      <td>737-900E</td>\n",
       "      <td>1448.0</td>\n",
       "      <td>16.0</td>\n",
       "      <td>4.0</td>\n",
       "      <td>2020-08-31 01:30:00</td>\n",
       "      <td>2020-08-30 04:16:00</td>\n",
       "      <td>2020-08-31 04:52:00</td>\n",
       "      <td>2020-08-30 08:11:00</td>\n",
       "      <td>-7.0</td>\n",
       "      <td>-8.0</td>\n",
       "      <td>August</td>\n",
       "      <td>-1241.0</td>\n",
       "      <td>-1</td>\n",
       "      <td>213.370166</td>\n",
       "    </tr>\n",
       "    <tr>\n",
       "      <th>92345</th>\n",
       "      <td>AS</td>\n",
       "      <td>SJO</td>\n",
       "      <td>LIR</td>\n",
       "      <td>299</td>\n",
       "      <td>587AS</td>\n",
       "      <td>737-800E</td>\n",
       "      <td>2729.0</td>\n",
       "      <td>43.0</td>\n",
       "      <td>3.0</td>\n",
       "      <td>2020-03-10 16:05:00</td>\n",
       "      <td>2020-03-10 16:08:00</td>\n",
       "      <td>2020-03-10 22:38:00</td>\n",
       "      <td>2020-03-10 17:19:00</td>\n",
       "      <td>-6.0</td>\n",
       "      <td>-6.0</td>\n",
       "      <td>March</td>\n",
       "      <td>-319.0</td>\n",
       "      <td>-1</td>\n",
       "      <td>390.800000</td>\n",
       "    </tr>\n",
       "    <tr>\n",
       "      <th>92346</th>\n",
       "      <td>AS</td>\n",
       "      <td>SJO</td>\n",
       "      <td>LIR</td>\n",
       "      <td>299</td>\n",
       "      <td>517AS</td>\n",
       "      <td>737-800E</td>\n",
       "      <td>2729.0</td>\n",
       "      <td>20.0</td>\n",
       "      <td>8.0</td>\n",
       "      <td>2020-03-12 16:05:00</td>\n",
       "      <td>2020-03-12 15:54:00</td>\n",
       "      <td>2020-03-12 22:38:00</td>\n",
       "      <td>2020-03-12 16:45:00</td>\n",
       "      <td>-6.0</td>\n",
       "      <td>-6.0</td>\n",
       "      <td>March</td>\n",
       "      <td>-353.0</td>\n",
       "      <td>-1</td>\n",
       "      <td>390.800000</td>\n",
       "    </tr>\n",
       "    <tr>\n",
       "      <th>92347</th>\n",
       "      <td>AS</td>\n",
       "      <td>SJO</td>\n",
       "      <td>LIR</td>\n",
       "      <td>299</td>\n",
       "      <td>592AS</td>\n",
       "      <td>737-800E</td>\n",
       "      <td>2729.0</td>\n",
       "      <td>12.0</td>\n",
       "      <td>3.0</td>\n",
       "      <td>2020-03-07 17:05:00</td>\n",
       "      <td>2020-03-07 16:56:00</td>\n",
       "      <td>2020-03-07 23:38:00</td>\n",
       "      <td>2020-03-07 17:35:00</td>\n",
       "      <td>-6.0</td>\n",
       "      <td>-6.0</td>\n",
       "      <td>March</td>\n",
       "      <td>-363.0</td>\n",
       "      <td>-1</td>\n",
       "      <td>390.800000</td>\n",
       "    </tr>\n",
       "    <tr>\n",
       "      <th>92348</th>\n",
       "      <td>AS</td>\n",
       "      <td>SJO</td>\n",
       "      <td>LIR</td>\n",
       "      <td>299</td>\n",
       "      <td>519AS</td>\n",
       "      <td>737-800E</td>\n",
       "      <td>2729.0</td>\n",
       "      <td>14.0</td>\n",
       "      <td>4.0</td>\n",
       "      <td>2020-03-08 16:05:00</td>\n",
       "      <td>2020-03-08 16:04:00</td>\n",
       "      <td>2020-03-08 22:38:00</td>\n",
       "      <td>2020-03-08 16:47:00</td>\n",
       "      <td>-6.0</td>\n",
       "      <td>-6.0</td>\n",
       "      <td>March</td>\n",
       "      <td>-351.0</td>\n",
       "      <td>-1</td>\n",
       "      <td>390.800000</td>\n",
       "    </tr>\n",
       "    <tr>\n",
       "      <th>92349</th>\n",
       "      <td>AS</td>\n",
       "      <td>SJO</td>\n",
       "      <td>LIR</td>\n",
       "      <td>299</td>\n",
       "      <td>536AS</td>\n",
       "      <td>737-800E</td>\n",
       "      <td>2729.0</td>\n",
       "      <td>19.0</td>\n",
       "      <td>3.0</td>\n",
       "      <td>2020-03-01 17:05:00</td>\n",
       "      <td>2020-03-01 16:44:00</td>\n",
       "      <td>2020-03-01 23:38:00</td>\n",
       "      <td>2020-03-01 17:28:00</td>\n",
       "      <td>-6.0</td>\n",
       "      <td>-6.0</td>\n",
       "      <td>March</td>\n",
       "      <td>-370.0</td>\n",
       "      <td>-1</td>\n",
       "      <td>390.800000</td>\n",
       "    </tr>\n",
       "    <tr>\n",
       "      <th>92350</th>\n",
       "      <td>AS</td>\n",
       "      <td>SJO</td>\n",
       "      <td>LIR</td>\n",
       "      <td>299</td>\n",
       "      <td>434AS</td>\n",
       "      <td>737-900E</td>\n",
       "      <td>2729.0</td>\n",
       "      <td>11.0</td>\n",
       "      <td>2.0</td>\n",
       "      <td>2020-03-03 17:05:00</td>\n",
       "      <td>2020-03-03 16:48:00</td>\n",
       "      <td>2020-03-03 23:38:00</td>\n",
       "      <td>2020-03-03 17:25:00</td>\n",
       "      <td>-6.0</td>\n",
       "      <td>-6.0</td>\n",
       "      <td>March</td>\n",
       "      <td>-373.0</td>\n",
       "      <td>-1</td>\n",
       "      <td>390.800000</td>\n",
       "    </tr>\n",
       "    <tr>\n",
       "      <th>92351</th>\n",
       "      <td>AS</td>\n",
       "      <td>SJO</td>\n",
       "      <td>LIR</td>\n",
       "      <td>299</td>\n",
       "      <td>587AS</td>\n",
       "      <td>737-800E</td>\n",
       "      <td>2729.0</td>\n",
       "      <td>8.0</td>\n",
       "      <td>5.0</td>\n",
       "      <td>2020-03-05 17:05:00</td>\n",
       "      <td>2020-03-05 16:52:00</td>\n",
       "      <td>2020-03-05 23:38:00</td>\n",
       "      <td>2020-03-05 17:23:00</td>\n",
       "      <td>-6.0</td>\n",
       "      <td>-6.0</td>\n",
       "      <td>March</td>\n",
       "      <td>-375.0</td>\n",
       "      <td>-1</td>\n",
       "      <td>390.800000</td>\n",
       "    </tr>\n",
       "    <tr>\n",
       "      <th>92352</th>\n",
       "      <td>AS</td>\n",
       "      <td>SJO</td>\n",
       "      <td>LIR</td>\n",
       "      <td>299</td>\n",
       "      <td>538AS</td>\n",
       "      <td>737-800E</td>\n",
       "      <td>2729.0</td>\n",
       "      <td>18.0</td>\n",
       "      <td>4.0</td>\n",
       "      <td>2020-03-17 16:05:00</td>\n",
       "      <td>2020-03-17 15:59:00</td>\n",
       "      <td>2020-03-17 22:38:00</td>\n",
       "      <td>2020-03-17 16:45:00</td>\n",
       "      <td>-6.0</td>\n",
       "      <td>-6.0</td>\n",
       "      <td>March</td>\n",
       "      <td>-353.0</td>\n",
       "      <td>-1</td>\n",
       "      <td>390.800000</td>\n",
       "    </tr>\n",
       "    <tr>\n",
       "      <th>92353</th>\n",
       "      <td>AS</td>\n",
       "      <td>SJO</td>\n",
       "      <td>LIR</td>\n",
       "      <td>299</td>\n",
       "      <td>535AS</td>\n",
       "      <td>737-800E</td>\n",
       "      <td>2729.0</td>\n",
       "      <td>16.0</td>\n",
       "      <td>4.0</td>\n",
       "      <td>2021-02-17 15:15:00</td>\n",
       "      <td>2021-02-17 14:58:00</td>\n",
       "      <td>2021-02-17 21:37:00</td>\n",
       "      <td>2021-02-17 15:41:00</td>\n",
       "      <td>-6.0</td>\n",
       "      <td>-6.0</td>\n",
       "      <td>February</td>\n",
       "      <td>-356.0</td>\n",
       "      <td>-1</td>\n",
       "      <td>390.800000</td>\n",
       "    </tr>\n",
       "    <tr>\n",
       "      <th>92354</th>\n",
       "      <td>AS</td>\n",
       "      <td>SJO</td>\n",
       "      <td>LIR</td>\n",
       "      <td>299</td>\n",
       "      <td>433AS</td>\n",
       "      <td>737-900E</td>\n",
       "      <td>2729.0</td>\n",
       "      <td>22.0</td>\n",
       "      <td>2.0</td>\n",
       "      <td>2021-02-16 15:15:00</td>\n",
       "      <td>2021-02-16 14:53:00</td>\n",
       "      <td>2021-02-16 21:37:00</td>\n",
       "      <td>2021-02-16 15:42:00</td>\n",
       "      <td>-6.0</td>\n",
       "      <td>-6.0</td>\n",
       "      <td>February</td>\n",
       "      <td>-355.0</td>\n",
       "      <td>-1</td>\n",
       "      <td>390.800000</td>\n",
       "    </tr>\n",
       "    <tr>\n",
       "      <th>161962</th>\n",
       "      <td>OO</td>\n",
       "      <td>LAX</td>\n",
       "      <td>SLC</td>\n",
       "      <td>3465</td>\n",
       "      <td>198SY</td>\n",
       "      <td>E175</td>\n",
       "      <td>590.0</td>\n",
       "      <td>23.0</td>\n",
       "      <td>14.0</td>\n",
       "      <td>2020-12-31 22:40:00</td>\n",
       "      <td>2020-12-31 16:49:00</td>\n",
       "      <td>2021-01-01 00:38:00</td>\n",
       "      <td>2020-12-31 18:56:00</td>\n",
       "      <td>-8.0</td>\n",
       "      <td>-7.0</td>\n",
       "      <td>December</td>\n",
       "      <td>-342.0</td>\n",
       "      <td>-1</td>\n",
       "      <td>115.783784</td>\n",
       "    </tr>\n",
       "    <tr>\n",
       "      <th>250721</th>\n",
       "      <td>AS</td>\n",
       "      <td>IAD</td>\n",
       "      <td>BWI</td>\n",
       "      <td>1085</td>\n",
       "      <td>237AK</td>\n",
       "      <td>737-900R</td>\n",
       "      <td>2306.0</td>\n",
       "      <td>32.0</td>\n",
       "      <td>5.0</td>\n",
       "      <td>2020-09-17 22:30:00</td>\n",
       "      <td>2020-09-17 22:19:00</td>\n",
       "      <td>2020-09-18 04:25:00</td>\n",
       "      <td>2020-09-17 23:20:00</td>\n",
       "      <td>-4.0</td>\n",
       "      <td>-4.0</td>\n",
       "      <td>September</td>\n",
       "      <td>-305.0</td>\n",
       "      <td>-1</td>\n",
       "      <td>355.000000</td>\n",
       "    </tr>\n",
       "    <tr>\n",
       "      <th>270157</th>\n",
       "      <td>QX</td>\n",
       "      <td>PAE</td>\n",
       "      <td>SEA</td>\n",
       "      <td>9989</td>\n",
       "      <td>647QX</td>\n",
       "      <td>E175</td>\n",
       "      <td>32.0</td>\n",
       "      <td>16.0</td>\n",
       "      <td>4.0</td>\n",
       "      <td>2020-05-15 04:40:00</td>\n",
       "      <td>2020-05-14 20:40:00</td>\n",
       "      <td>2020-05-15 05:10:00</td>\n",
       "      <td>2020-05-14 21:10:00</td>\n",
       "      <td>-7.0</td>\n",
       "      <td>-7.0</td>\n",
       "      <td>May</td>\n",
       "      <td>-480.0</td>\n",
       "      <td>-1</td>\n",
       "      <td>30.000000</td>\n",
       "    </tr>\n",
       "  </tbody>\n",
       "</table>\n",
       "</div>"
      ],
      "text/plain": [
       "       OPER_CARR_CD ACT_ORIG ACT_DEST  FLT_NBR ACT_FULL_TAIL_NBR ACT_AC_TYPE  \\\n",
       "56503            AS      SEA      ANC      105             457AS    737-900E   \n",
       "92345            AS      SJO      LIR      299             587AS    737-800E   \n",
       "92346            AS      SJO      LIR      299             517AS    737-800E   \n",
       "92347            AS      SJO      LIR      299             592AS    737-800E   \n",
       "92348            AS      SJO      LIR      299             519AS    737-800E   \n",
       "92349            AS      SJO      LIR      299             536AS    737-800E   \n",
       "92350            AS      SJO      LIR      299             434AS    737-900E   \n",
       "92351            AS      SJO      LIR      299             587AS    737-800E   \n",
       "92352            AS      SJO      LIR      299             538AS    737-800E   \n",
       "92353            AS      SJO      LIR      299             535AS    737-800E   \n",
       "92354            AS      SJO      LIR      299             433AS    737-900E   \n",
       "161962           OO      LAX      SLC     3465             198SY        E175   \n",
       "250721           AS      IAD      BWI     1085             237AK    737-900R   \n",
       "270157           QX      PAE      SEA     9989             647QX        E175   \n",
       "\n",
       "        SKD_MILES  ACT_TAXI_OUT_MIN  ACT_TAXI_IN_MIN  SKD_ZULU_DPTR_DTTM  \\\n",
       "56503      1448.0              16.0              4.0 2020-08-31 01:30:00   \n",
       "92345      2729.0              43.0              3.0 2020-03-10 16:05:00   \n",
       "92346      2729.0              20.0              8.0 2020-03-12 16:05:00   \n",
       "92347      2729.0              12.0              3.0 2020-03-07 17:05:00   \n",
       "92348      2729.0              14.0              4.0 2020-03-08 16:05:00   \n",
       "92349      2729.0              19.0              3.0 2020-03-01 17:05:00   \n",
       "92350      2729.0              11.0              2.0 2020-03-03 17:05:00   \n",
       "92351      2729.0               8.0              5.0 2020-03-05 17:05:00   \n",
       "92352      2729.0              18.0              4.0 2020-03-17 16:05:00   \n",
       "92353      2729.0              16.0              4.0 2021-02-17 15:15:00   \n",
       "92354      2729.0              22.0              2.0 2021-02-16 15:15:00   \n",
       "161962      590.0              23.0             14.0 2020-12-31 22:40:00   \n",
       "250721     2306.0              32.0              5.0 2020-09-17 22:30:00   \n",
       "270157       32.0              16.0              4.0 2020-05-15 04:40:00   \n",
       "\n",
       "        ACT_ZULU_DPTR_DTTM  SKD_ZULU_ARRV_DTTM  ACT_ZULU_ARRV_DTTM  \\\n",
       "56503  2020-08-30 04:16:00 2020-08-31 04:52:00 2020-08-30 08:11:00   \n",
       "92345  2020-03-10 16:08:00 2020-03-10 22:38:00 2020-03-10 17:19:00   \n",
       "92346  2020-03-12 15:54:00 2020-03-12 22:38:00 2020-03-12 16:45:00   \n",
       "92347  2020-03-07 16:56:00 2020-03-07 23:38:00 2020-03-07 17:35:00   \n",
       "92348  2020-03-08 16:04:00 2020-03-08 22:38:00 2020-03-08 16:47:00   \n",
       "92349  2020-03-01 16:44:00 2020-03-01 23:38:00 2020-03-01 17:28:00   \n",
       "92350  2020-03-03 16:48:00 2020-03-03 23:38:00 2020-03-03 17:25:00   \n",
       "92351  2020-03-05 16:52:00 2020-03-05 23:38:00 2020-03-05 17:23:00   \n",
       "92352  2020-03-17 15:59:00 2020-03-17 22:38:00 2020-03-17 16:45:00   \n",
       "92353  2021-02-17 14:58:00 2021-02-17 21:37:00 2021-02-17 15:41:00   \n",
       "92354  2021-02-16 14:53:00 2021-02-16 21:37:00 2021-02-16 15:42:00   \n",
       "161962 2020-12-31 16:49:00 2021-01-01 00:38:00 2020-12-31 18:56:00   \n",
       "250721 2020-09-17 22:19:00 2020-09-18 04:25:00 2020-09-17 23:20:00   \n",
       "270157 2020-05-14 20:40:00 2020-05-15 05:10:00 2020-05-14 21:10:00   \n",
       "\n",
       "        ACT_ORIG_GMT_OFFSET  ACT_DEST_GMT_OFFSET      month  delay_min  \\\n",
       "56503                  -7.0                 -8.0     August    -1241.0   \n",
       "92345                  -6.0                 -6.0      March     -319.0   \n",
       "92346                  -6.0                 -6.0      March     -353.0   \n",
       "92347                  -6.0                 -6.0      March     -363.0   \n",
       "92348                  -6.0                 -6.0      March     -351.0   \n",
       "92349                  -6.0                 -6.0      March     -370.0   \n",
       "92350                  -6.0                 -6.0      March     -373.0   \n",
       "92351                  -6.0                 -6.0      March     -375.0   \n",
       "92352                  -6.0                 -6.0      March     -353.0   \n",
       "92353                  -6.0                 -6.0   February     -356.0   \n",
       "92354                  -6.0                 -6.0   February     -355.0   \n",
       "161962                 -8.0                 -7.0   December     -342.0   \n",
       "250721                 -4.0                 -4.0  September     -305.0   \n",
       "270157                 -7.0                 -7.0        May     -480.0   \n",
       "\n",
       "        is_delay  skd_flight_time  \n",
       "56503         -1       213.370166  \n",
       "92345         -1       390.800000  \n",
       "92346         -1       390.800000  \n",
       "92347         -1       390.800000  \n",
       "92348         -1       390.800000  \n",
       "92349         -1       390.800000  \n",
       "92350         -1       390.800000  \n",
       "92351         -1       390.800000  \n",
       "92352         -1       390.800000  \n",
       "92353         -1       390.800000  \n",
       "92354         -1       390.800000  \n",
       "161962        -1       115.783784  \n",
       "250721        -1       355.000000  \n",
       "270157        -1        30.000000  "
      ]
     },
     "execution_count": 23,
     "metadata": {},
     "output_type": "execute_result"
    }
   ],
   "source": [
    "# look at delay_min outliers\n",
    "\n",
    "thres = 5 # hours\n",
    "outlier_thres = thres * 60 # convert to min\n",
    "\n",
    "df_clean_4.loc[df_clean_4.delay_min < -outlier_thres] # first see the flights that are 5 hours EARLY"
   ]
  },
  {
   "cell_type": "markdown",
   "metadata": {},
   "source": [
    "There seems to be something wrong with the SJO-LIR flights- the 'actual' flight time doesn't seem to be enough. It is difficult to determine what kind of an error is going on here, so I will create a column for `act_flight_time` and look at the variance between that and the scheduled flight time."
   ]
  },
  {
   "cell_type": "code",
   "execution_count": 24,
   "metadata": {},
   "outputs": [
    {
     "data": {
      "text/plain": [
       "count    270253.000000\n",
       "mean         -0.036270\n",
       "std           0.190520\n",
       "min         -11.606452\n",
       "25%          -0.097207\n",
       "50%          -0.039668\n",
       "75%           0.016692\n",
       "max           3.819672\n",
       "dtype: float64"
      ]
     },
     "execution_count": 24,
     "metadata": {},
     "output_type": "execute_result"
    }
   ],
   "source": [
    "# calculate actual flight time \n",
    "\n",
    "act_flight_dt = df_clean_4.ACT_ZULU_ARRV_DTTM - df_clean_4.ACT_ZULU_DPTR_DTTM\n",
    "act_flight_min = act_flight_dt.dt.total_seconds() / 60 # minutes\n",
    "\n",
    "# look at the variance \n",
    "\n",
    "act_speed = (act_flight_min / 60) / df_clean_4.SKD_MILES # mph\n",
    "skd_speed = (df_clean_4.skd_flight_time / 60) / df_clean_4.SKD_MILES # mph\n",
    "\n",
    "speed_diff = act_speed - skd_speed\n",
    "temp = pd.DataFrame(data={'act_speed':act_speed, 'skd_speed':skd_speed})\n",
    "\n",
    "pct_diff = speed_diff/temp.min(axis=1)\n",
    "pct_diff.describe()"
   ]
  },
  {
   "cell_type": "markdown",
   "metadata": {},
   "source": [
    "While it's possible that a flight takes 4 times as long due to long delays, I find it unlikely that a flight travels 11.5 times faster than scheduled, so these data points seem suspicious.  "
   ]
  },
  {
   "cell_type": "code",
   "execution_count": 25,
   "metadata": {},
   "outputs": [
    {
     "data": {
      "text/plain": [
       "<AxesSubplot:>"
      ]
     },
     "execution_count": 25,
     "metadata": {},
     "output_type": "execute_result"
    },
    {
     "data": {
      "image/png": "[encoded data removed]",
      "text/plain": [
       "<Figure size 432x288 with 1 Axes>"
      ]
     },
     "metadata": {
      "needs_background": "light"
     },
     "output_type": "display_data"
    }
   ],
   "source": [
    "# quick visualization \n",
    "pct_diff.hist()"
   ]
  },
  {
   "cell_type": "code",
   "execution_count": 26,
   "metadata": {},
   "outputs": [
    {
     "data": {
      "text/html": [
       "<div>\n",
       "<style scoped>\n",
       "    .dataframe tbody tr th:only-of-type {\n",
       "        vertical-align: middle;\n",
       "    }\n",
       "\n",
       "    .dataframe tbody tr th {\n",
       "        vertical-align: top;\n",
       "    }\n",
       "\n",
       "    .dataframe thead th {\n",
       "        text-align: right;\n",
       "    }\n",
       "</style>\n",
       "<table border=\"1\" class=\"dataframe\">\n",
       "  <thead>\n",
       "    <tr style=\"text-align: right;\">\n",
       "      <th></th>\n",
       "      <th>FLT_NBR</th>\n",
       "      <th>SKD_MILES</th>\n",
       "      <th>ACT_TAXI_OUT_MIN</th>\n",
       "      <th>ACT_TAXI_IN_MIN</th>\n",
       "      <th>ACT_ORIG_GMT_OFFSET</th>\n",
       "      <th>ACT_DEST_GMT_OFFSET</th>\n",
       "      <th>delay_min</th>\n",
       "      <th>is_delay</th>\n",
       "      <th>skd_flight_time</th>\n",
       "    </tr>\n",
       "  </thead>\n",
       "  <tbody>\n",
       "    <tr>\n",
       "      <th>count</th>\n",
       "      <td>487.000000</td>\n",
       "      <td>487.000000</td>\n",
       "      <td>487.000000</td>\n",
       "      <td>487.000000</td>\n",
       "      <td>487.000000</td>\n",
       "      <td>487.000000</td>\n",
       "      <td>487.000000</td>\n",
       "      <td>487.000000</td>\n",
       "      <td>487.000000</td>\n",
       "    </tr>\n",
       "    <tr>\n",
       "      <th>mean</th>\n",
       "      <td>6542.305955</td>\n",
       "      <td>406.572895</td>\n",
       "      <td>12.006160</td>\n",
       "      <td>4.320329</td>\n",
       "      <td>-8.160164</td>\n",
       "      <td>-8.162218</td>\n",
       "      <td>-11.133470</td>\n",
       "      <td>-0.412731</td>\n",
       "      <td>171.280034</td>\n",
       "    </tr>\n",
       "    <tr>\n",
       "      <th>std</th>\n",
       "      <td>1627.448256</td>\n",
       "      <td>536.300483</td>\n",
       "      <td>6.482801</td>\n",
       "      <td>2.481217</td>\n",
       "      <td>0.739129</td>\n",
       "      <td>0.726037</td>\n",
       "      <td>78.759157</td>\n",
       "      <td>0.911790</td>\n",
       "      <td>51.300739</td>\n",
       "    </tr>\n",
       "    <tr>\n",
       "      <th>min</th>\n",
       "      <td>23.000000</td>\n",
       "      <td>93.000000</td>\n",
       "      <td>2.000000</td>\n",
       "      <td>2.000000</td>\n",
       "      <td>-9.000000</td>\n",
       "      <td>-9.000000</td>\n",
       "      <td>-375.000000</td>\n",
       "      <td>-1.000000</td>\n",
       "      <td>94.000000</td>\n",
       "    </tr>\n",
       "    <tr>\n",
       "      <th>25%</th>\n",
       "      <td>7005.000000</td>\n",
       "      <td>95.000000</td>\n",
       "      <td>7.000000</td>\n",
       "      <td>3.000000</td>\n",
       "      <td>-9.000000</td>\n",
       "      <td>-9.000000</td>\n",
       "      <td>-23.000000</td>\n",
       "      <td>-1.000000</td>\n",
       "      <td>147.000000</td>\n",
       "    </tr>\n",
       "    <tr>\n",
       "      <th>50%</th>\n",
       "      <td>7005.000000</td>\n",
       "      <td>95.000000</td>\n",
       "      <td>11.000000</td>\n",
       "      <td>4.000000</td>\n",
       "      <td>-8.000000</td>\n",
       "      <td>-8.000000</td>\n",
       "      <td>-6.000000</td>\n",
       "      <td>-1.000000</td>\n",
       "      <td>147.000000</td>\n",
       "    </tr>\n",
       "    <tr>\n",
       "      <th>75%</th>\n",
       "      <td>7096.000000</td>\n",
       "      <td>571.000000</td>\n",
       "      <td>15.000000</td>\n",
       "      <td>5.000000</td>\n",
       "      <td>-8.000000</td>\n",
       "      <td>-8.000000</td>\n",
       "      <td>19.500000</td>\n",
       "      <td>1.000000</td>\n",
       "      <td>211.000000</td>\n",
       "    </tr>\n",
       "    <tr>\n",
       "      <th>max</th>\n",
       "      <td>9661.000000</td>\n",
       "      <td>2729.000000</td>\n",
       "      <td>43.000000</td>\n",
       "      <td>46.000000</td>\n",
       "      <td>-4.000000</td>\n",
       "      <td>-4.000000</td>\n",
       "      <td>245.000000</td>\n",
       "      <td>1.000000</td>\n",
       "      <td>410.000000</td>\n",
       "    </tr>\n",
       "  </tbody>\n",
       "</table>\n",
       "</div>"
      ],
      "text/plain": [
       "           FLT_NBR    SKD_MILES  ACT_TAXI_OUT_MIN  ACT_TAXI_IN_MIN  \\\n",
       "count   487.000000   487.000000        487.000000       487.000000   \n",
       "mean   6542.305955   406.572895         12.006160         4.320329   \n",
       "std    1627.448256   536.300483          6.482801         2.481217   \n",
       "min      23.000000    93.000000          2.000000         2.000000   \n",
       "25%    7005.000000    95.000000          7.000000         3.000000   \n",
       "50%    7005.000000    95.000000         11.000000         4.000000   \n",
       "75%    7096.000000   571.000000         15.000000         5.000000   \n",
       "max    9661.000000  2729.000000         43.000000        46.000000   \n",
       "\n",
       "       ACT_ORIG_GMT_OFFSET  ACT_DEST_GMT_OFFSET   delay_min    is_delay  \\\n",
       "count           487.000000           487.000000  487.000000  487.000000   \n",
       "mean             -8.160164            -8.162218  -11.133470   -0.412731   \n",
       "std               0.739129             0.726037   78.759157    0.911790   \n",
       "min              -9.000000            -9.000000 -375.000000   -1.000000   \n",
       "25%              -9.000000            -9.000000  -23.000000   -1.000000   \n",
       "50%              -8.000000            -8.000000   -6.000000   -1.000000   \n",
       "75%              -8.000000            -8.000000   19.500000    1.000000   \n",
       "max              -4.000000            -4.000000  245.000000    1.000000   \n",
       "\n",
       "       skd_flight_time  \n",
       "count       487.000000  \n",
       "mean        171.280034  \n",
       "std          51.300739  \n",
       "min          94.000000  \n",
       "25%         147.000000  \n",
       "50%         147.000000  \n",
       "75%         211.000000  \n",
       "max         410.000000  "
      ]
     },
     "execution_count": 26,
     "metadata": {},
     "output_type": "execute_result"
    }
   ],
   "source": [
    "# what flights are twice as fast as scheduled?\n",
    "\n",
    "df_clean_4.loc[pct_diff < -1].describe()"
   ]
  },
  {
   "cell_type": "markdown",
   "metadata": {},
   "source": [
    "These nearly 500 rows seem suspicious- I find it unlikely that a flight will travel twice the normally scheduled speed, so I will exclude these from the dataset."
   ]
  },
  {
   "cell_type": "code",
   "execution_count": 27,
   "metadata": {},
   "outputs": [
    {
     "data": {
      "text/html": [
       "<div>\n",
       "<style scoped>\n",
       "    .dataframe tbody tr th:only-of-type {\n",
       "        vertical-align: middle;\n",
       "    }\n",
       "\n",
       "    .dataframe tbody tr th {\n",
       "        vertical-align: top;\n",
       "    }\n",
       "\n",
       "    .dataframe thead th {\n",
       "        text-align: right;\n",
       "    }\n",
       "</style>\n",
       "<table border=\"1\" class=\"dataframe\">\n",
       "  <thead>\n",
       "    <tr style=\"text-align: right;\">\n",
       "      <th></th>\n",
       "      <th>FLT_NBR</th>\n",
       "      <th>SKD_MILES</th>\n",
       "      <th>ACT_TAXI_OUT_MIN</th>\n",
       "      <th>ACT_TAXI_IN_MIN</th>\n",
       "      <th>ACT_ORIG_GMT_OFFSET</th>\n",
       "      <th>ACT_DEST_GMT_OFFSET</th>\n",
       "      <th>delay_min</th>\n",
       "      <th>is_delay</th>\n",
       "      <th>skd_flight_time</th>\n",
       "    </tr>\n",
       "  </thead>\n",
       "  <tbody>\n",
       "    <tr>\n",
       "      <th>count</th>\n",
       "      <td>269766.000000</td>\n",
       "      <td>269766.000000</td>\n",
       "      <td>269766.000000</td>\n",
       "      <td>269766.000000</td>\n",
       "      <td>269766.000000</td>\n",
       "      <td>269766.000000</td>\n",
       "      <td>269766.000000</td>\n",
       "      <td>269766.000000</td>\n",
       "      <td>269766.000000</td>\n",
       "    </tr>\n",
       "    <tr>\n",
       "      <th>mean</th>\n",
       "      <td>1933.118529</td>\n",
       "      <td>894.738325</td>\n",
       "      <td>14.349010</td>\n",
       "      <td>5.874117</td>\n",
       "      <td>-7.264577</td>\n",
       "      <td>-7.263313</td>\n",
       "      <td>-5.579717</td>\n",
       "      <td>-0.793606</td>\n",
       "      <td>148.596301</td>\n",
       "    </tr>\n",
       "    <tr>\n",
       "      <th>std</th>\n",
       "      <td>1547.227576</td>\n",
       "      <td>693.793074</td>\n",
       "      <td>6.861501</td>\n",
       "      <td>4.333883</td>\n",
       "      <td>1.014107</td>\n",
       "      <td>1.016318</td>\n",
       "      <td>28.700461</td>\n",
       "      <td>0.608433</td>\n",
       "      <td>86.764425</td>\n",
       "    </tr>\n",
       "    <tr>\n",
       "      <th>min</th>\n",
       "      <td>1.000000</td>\n",
       "      <td>11.000000</td>\n",
       "      <td>1.000000</td>\n",
       "      <td>1.000000</td>\n",
       "      <td>-10.000000</td>\n",
       "      <td>-10.000000</td>\n",
       "      <td>-1241.000000</td>\n",
       "      <td>-1.000000</td>\n",
       "      <td>20.333333</td>\n",
       "    </tr>\n",
       "    <tr>\n",
       "      <th>25%</th>\n",
       "      <td>668.000000</td>\n",
       "      <td>376.000000</td>\n",
       "      <td>10.000000</td>\n",
       "      <td>4.000000</td>\n",
       "      <td>-8.000000</td>\n",
       "      <td>-8.000000</td>\n",
       "      <td>-18.000000</td>\n",
       "      <td>-1.000000</td>\n",
       "      <td>85.228571</td>\n",
       "    </tr>\n",
       "    <tr>\n",
       "      <th>50%</th>\n",
       "      <td>2100.000000</td>\n",
       "      <td>688.000000</td>\n",
       "      <td>13.000000</td>\n",
       "      <td>5.000000</td>\n",
       "      <td>-7.000000</td>\n",
       "      <td>-7.000000</td>\n",
       "      <td>-10.000000</td>\n",
       "      <td>-1.000000</td>\n",
       "      <td>128.000000</td>\n",
       "    </tr>\n",
       "    <tr>\n",
       "      <th>75%</th>\n",
       "      <td>2796.000000</td>\n",
       "      <td>1133.000000</td>\n",
       "      <td>17.000000</td>\n",
       "      <td>7.000000</td>\n",
       "      <td>-7.000000</td>\n",
       "      <td>-7.000000</td>\n",
       "      <td>0.000000</td>\n",
       "      <td>-1.000000</td>\n",
       "      <td>182.162011</td>\n",
       "    </tr>\n",
       "    <tr>\n",
       "      <th>max</th>\n",
       "      <td>9989.000000</td>\n",
       "      <td>2899.000000</td>\n",
       "      <td>207.000000</td>\n",
       "      <td>217.000000</td>\n",
       "      <td>-4.000000</td>\n",
       "      <td>-4.000000</td>\n",
       "      <td>758.000000</td>\n",
       "      <td>1.000000</td>\n",
       "      <td>427.833333</td>\n",
       "    </tr>\n",
       "  </tbody>\n",
       "</table>\n",
       "</div>"
      ],
      "text/plain": [
       "             FLT_NBR      SKD_MILES  ACT_TAXI_OUT_MIN  ACT_TAXI_IN_MIN  \\\n",
       "count  269766.000000  269766.000000     269766.000000    269766.000000   \n",
       "mean     1933.118529     894.738325         14.349010         5.874117   \n",
       "std      1547.227576     693.793074          6.861501         4.333883   \n",
       "min         1.000000      11.000000          1.000000         1.000000   \n",
       "25%       668.000000     376.000000         10.000000         4.000000   \n",
       "50%      2100.000000     688.000000         13.000000         5.000000   \n",
       "75%      2796.000000    1133.000000         17.000000         7.000000   \n",
       "max      9989.000000    2899.000000        207.000000       217.000000   \n",
       "\n",
       "       ACT_ORIG_GMT_OFFSET  ACT_DEST_GMT_OFFSET      delay_min       is_delay  \\\n",
       "count        269766.000000        269766.000000  269766.000000  269766.000000   \n",
       "mean             -7.264577            -7.263313      -5.579717      -0.793606   \n",
       "std               1.014107             1.016318      28.700461       0.608433   \n",
       "min             -10.000000           -10.000000   -1241.000000      -1.000000   \n",
       "25%              -8.000000            -8.000000     -18.000000      -1.000000   \n",
       "50%              -7.000000            -7.000000     -10.000000      -1.000000   \n",
       "75%              -7.000000            -7.000000       0.000000      -1.000000   \n",
       "max              -4.000000            -4.000000     758.000000       1.000000   \n",
       "\n",
       "       skd_flight_time  \n",
       "count    269766.000000  \n",
       "mean        148.596301  \n",
       "std          86.764425  \n",
       "min          20.333333  \n",
       "25%          85.228571  \n",
       "50%         128.000000  \n",
       "75%         182.162011  \n",
       "max         427.833333  "
      ]
     },
     "execution_count": 27,
     "metadata": {},
     "output_type": "execute_result"
    }
   ],
   "source": [
    "df_clean_5 = df_clean_4.drop(df_clean_4.loc[pct_diff < -1].index).reset_index(drop=True)\n",
    "\n",
    "df_clean_5.describe()"
   ]
  },
  {
   "cell_type": "markdown",
   "metadata": {},
   "source": [
    "There also seems to be flights where the scheduled flight and actual flight day seems to be mismatched- while it is possible for that to happen due to a delay, if the flight is leaving another day early, that could be an input error.  \n",
    "\n",
    "The previous step caught ones where the arrival time did not match, but if the speed is reasonable, these outliers were not caught.  "
   ]
  },
  {
   "cell_type": "code",
   "execution_count": 28,
   "metadata": {},
   "outputs": [
    {
     "data": {
      "text/html": [
       "<div>\n",
       "<style scoped>\n",
       "    .dataframe tbody tr th:only-of-type {\n",
       "        vertical-align: middle;\n",
       "    }\n",
       "\n",
       "    .dataframe tbody tr th {\n",
       "        vertical-align: top;\n",
       "    }\n",
       "\n",
       "    .dataframe thead th {\n",
       "        text-align: right;\n",
       "    }\n",
       "</style>\n",
       "<table border=\"1\" class=\"dataframe\">\n",
       "  <thead>\n",
       "    <tr style=\"text-align: right;\">\n",
       "      <th></th>\n",
       "      <th>OPER_CARR_CD</th>\n",
       "      <th>ACT_ORIG</th>\n",
       "      <th>ACT_DEST</th>\n",
       "      <th>FLT_NBR</th>\n",
       "      <th>ACT_FULL_TAIL_NBR</th>\n",
       "      <th>ACT_AC_TYPE</th>\n",
       "      <th>SKD_MILES</th>\n",
       "      <th>ACT_TAXI_OUT_MIN</th>\n",
       "      <th>ACT_TAXI_IN_MIN</th>\n",
       "      <th>SKD_ZULU_DPTR_DTTM</th>\n",
       "      <th>ACT_ZULU_DPTR_DTTM</th>\n",
       "      <th>SKD_ZULU_ARRV_DTTM</th>\n",
       "      <th>ACT_ZULU_ARRV_DTTM</th>\n",
       "      <th>ACT_ORIG_GMT_OFFSET</th>\n",
       "      <th>ACT_DEST_GMT_OFFSET</th>\n",
       "      <th>month</th>\n",
       "      <th>delay_min</th>\n",
       "      <th>is_delay</th>\n",
       "      <th>skd_flight_time</th>\n",
       "    </tr>\n",
       "  </thead>\n",
       "  <tbody>\n",
       "    <tr>\n",
       "      <th>56503</th>\n",
       "      <td>AS</td>\n",
       "      <td>SEA</td>\n",
       "      <td>ANC</td>\n",
       "      <td>105</td>\n",
       "      <td>457AS</td>\n",
       "      <td>737-900E</td>\n",
       "      <td>1448.0</td>\n",
       "      <td>16.0</td>\n",
       "      <td>4.0</td>\n",
       "      <td>2020-08-31 01:30:00</td>\n",
       "      <td>2020-08-30 04:16:00</td>\n",
       "      <td>2020-08-31 04:52:00</td>\n",
       "      <td>2020-08-30 08:11:00</td>\n",
       "      <td>-7.0</td>\n",
       "      <td>-8.0</td>\n",
       "      <td>August</td>\n",
       "      <td>-1241.0</td>\n",
       "      <td>-1</td>\n",
       "      <td>213.370166</td>\n",
       "    </tr>\n",
       "    <tr>\n",
       "      <th>161559</th>\n",
       "      <td>OO</td>\n",
       "      <td>LAX</td>\n",
       "      <td>SLC</td>\n",
       "      <td>3465</td>\n",
       "      <td>198SY</td>\n",
       "      <td>E175</td>\n",
       "      <td>590.0</td>\n",
       "      <td>23.0</td>\n",
       "      <td>14.0</td>\n",
       "      <td>2020-12-31 22:40:00</td>\n",
       "      <td>2020-12-31 16:49:00</td>\n",
       "      <td>2021-01-01 00:38:00</td>\n",
       "      <td>2020-12-31 18:56:00</td>\n",
       "      <td>-8.0</td>\n",
       "      <td>-7.0</td>\n",
       "      <td>December</td>\n",
       "      <td>-342.0</td>\n",
       "      <td>-1</td>\n",
       "      <td>115.783784</td>\n",
       "    </tr>\n",
       "    <tr>\n",
       "      <th>269670</th>\n",
       "      <td>QX</td>\n",
       "      <td>PAE</td>\n",
       "      <td>SEA</td>\n",
       "      <td>9989</td>\n",
       "      <td>647QX</td>\n",
       "      <td>E175</td>\n",
       "      <td>32.0</td>\n",
       "      <td>16.0</td>\n",
       "      <td>4.0</td>\n",
       "      <td>2020-05-15 04:40:00</td>\n",
       "      <td>2020-05-14 20:40:00</td>\n",
       "      <td>2020-05-15 05:10:00</td>\n",
       "      <td>2020-05-14 21:10:00</td>\n",
       "      <td>-7.0</td>\n",
       "      <td>-7.0</td>\n",
       "      <td>May</td>\n",
       "      <td>-480.0</td>\n",
       "      <td>-1</td>\n",
       "      <td>30.000000</td>\n",
       "    </tr>\n",
       "  </tbody>\n",
       "</table>\n",
       "</div>"
      ],
      "text/plain": [
       "       OPER_CARR_CD ACT_ORIG ACT_DEST  FLT_NBR ACT_FULL_TAIL_NBR ACT_AC_TYPE  \\\n",
       "56503            AS      SEA      ANC      105             457AS    737-900E   \n",
       "161559           OO      LAX      SLC     3465             198SY        E175   \n",
       "269670           QX      PAE      SEA     9989             647QX        E175   \n",
       "\n",
       "        SKD_MILES  ACT_TAXI_OUT_MIN  ACT_TAXI_IN_MIN  SKD_ZULU_DPTR_DTTM  \\\n",
       "56503      1448.0              16.0              4.0 2020-08-31 01:30:00   \n",
       "161559      590.0              23.0             14.0 2020-12-31 22:40:00   \n",
       "269670       32.0              16.0              4.0 2020-05-15 04:40:00   \n",
       "\n",
       "        ACT_ZULU_DPTR_DTTM  SKD_ZULU_ARRV_DTTM  ACT_ZULU_ARRV_DTTM  \\\n",
       "56503  2020-08-30 04:16:00 2020-08-31 04:52:00 2020-08-30 08:11:00   \n",
       "161559 2020-12-31 16:49:00 2021-01-01 00:38:00 2020-12-31 18:56:00   \n",
       "269670 2020-05-14 20:40:00 2020-05-15 05:10:00 2020-05-14 21:10:00   \n",
       "\n",
       "        ACT_ORIG_GMT_OFFSET  ACT_DEST_GMT_OFFSET     month  delay_min  \\\n",
       "56503                  -7.0                 -8.0    August    -1241.0   \n",
       "161559                 -8.0                 -7.0  December     -342.0   \n",
       "269670                 -7.0                 -7.0       May     -480.0   \n",
       "\n",
       "        is_delay  skd_flight_time  \n",
       "56503         -1       213.370166  \n",
       "161559        -1       115.783784  \n",
       "269670        -1        30.000000  "
      ]
     },
     "execution_count": 28,
     "metadata": {},
     "output_type": "execute_result"
    }
   ],
   "source": [
    "# threshold\n",
    "\n",
    "df_clean_5.loc[df_clean_5.delay_min < -outlier_thres]"
   ]
  },
  {
   "cell_type": "code",
   "execution_count": 29,
   "metadata": {},
   "outputs": [],
   "source": [
    "# also drop these rows\n",
    "\n",
    "df_clean_6 = df_clean_5.drop(df_clean_5.loc[df_clean_5.delay_min < -outlier_thres].index).reset_index(drop=True)"
   ]
  },
  {
   "cell_type": "code",
   "execution_count": 30,
   "metadata": {},
   "outputs": [],
   "source": [
    "# save intermediate file\n",
    "\n",
    "df_clean_6.to_csv('data_clean/flights_cleaned.csv', index=False)"
   ]
  },
  {
   "cell_type": "markdown",
   "metadata": {},
   "source": [
    "## Step 2: New Variables (Aircraft Age) <a name=\"step2\"></a>"
   ]
  },
  {
   "cell_type": "markdown",
   "metadata": {},
   "source": [
    "[(Back to top)](#top)"
   ]
  },
  {
   "cell_type": "markdown",
   "metadata": {},
   "source": [
    "- As mentioned above, the tail number is a non-unique identifier variable without much insight\n",
    "- However, it can be used to retreieve aircraft age, which may be a factor in the delay prediction model\n",
    "- I downloaded the aircraft registration archive file from [FAA](https://www.faa.gov/licenses_certificates/aircraft_certification/aircraft_registry/releasable_aircraft_download/)- specifically, the `2020 Aircraft Registration Database`"
   ]
  },
  {
   "cell_type": "code",
   "execution_count": 31,
   "metadata": {},
   "outputs": [],
   "source": [
    "# load more libraries\n",
    "\n",
    "from zipfile import ZipFile\n",
    "import os"
   ]
  },
  {
   "cell_type": "code",
   "execution_count": 32,
   "metadata": {},
   "outputs": [
    {
     "data": {
      "text/plain": [
       "'C:\\\\Users\\\\admin\\\\Documents\\\\Job Search\\\\Summer 2021\\\\Technical\\\\Alaska Airlines\\\\Alaska Airline DS Interview'"
      ]
     },
     "execution_count": 32,
     "metadata": {},
     "output_type": "execute_result"
    }
   ],
   "source": [
    "# open files \n",
    "\n",
    "os.chdir('data_raw')\n",
    "\n",
    "with ZipFile('ReleasableAircraft.2020.zip') as zipfiles:\n",
    "    zipfiles.extractall()\n",
    "    \n",
    "os.chdir('..')\n",
    "\n",
    "os.getcwd()"
   ]
  },
  {
   "cell_type": "code",
   "execution_count": 33,
   "metadata": {},
   "outputs": [
    {
     "name": "stderr",
     "output_type": "stream",
     "text": [
      "C:\\ProgramData\\Anaconda3\\lib\\site-packages\\IPython\\core\\interactiveshell.py:3146: DtypeWarning: Columns (18) have mixed types.Specify dtype option on import or set low_memory=False.\n",
      "  has_raised = await self.run_ast_nodes(code_ast.body, cell_name,\n"
     ]
    }
   ],
   "source": [
    "# load the data- this is unzipped in the data_raw folder\n",
    "\n",
    "aircrafts = pd.read_csv('data_raw/MASTER.txt')"
   ]
  },
  {
   "cell_type": "code",
   "execution_count": 34,
   "metadata": {},
   "outputs": [],
   "source": [
    "# load the cleaned flights dataset\n",
    "\n",
    "flights = pd.read_csv('data_clean/flights_cleaned.csv')"
   ]
  },
  {
   "cell_type": "code",
   "execution_count": 35,
   "metadata": {},
   "outputs": [
    {
     "data": {
      "text/plain": [
       "Index(['N-NUMBER', 'SERIAL NUMBER', 'MFR MDL CODE', 'ENG MFR MDL', 'YEAR MFR',\n",
       "       'TYPE REGISTRANT', 'NAME', 'STREET', 'STREET2', 'CITY', 'STATE',\n",
       "       'ZIP CODE', 'REGION', 'COUNTY', 'COUNTRY', 'LAST ACTION DATE',\n",
       "       'CERT ISSUE DATE', 'CERTIFICATION', 'TYPE AIRCRAFT', 'TYPE ENGINE',\n",
       "       'STATUS CODE', 'MODE S CODE', 'FRACT OWNER', 'AIR WORTH DATE',\n",
       "       'OTHER NAMES(1)', 'OTHER NAMES(2)', 'OTHER NAMES(3)', 'OTHER NAMES(4)',\n",
       "       'OTHER NAMES(5)', 'EXPIRATION DATE', 'UNIQUE ID', 'KIT MFR',\n",
       "       ' KIT MODEL', 'MODE S CODE HEX', 'Unnamed: 34'],\n",
       "      dtype='object')"
      ]
     },
     "execution_count": 35,
     "metadata": {},
     "output_type": "execute_result"
    }
   ],
   "source": [
    "# what are the variables?\n",
    "\n",
    "aircrafts.columns"
   ]
  },
  {
   "cell_type": "code",
   "execution_count": 36,
   "metadata": {},
   "outputs": [],
   "source": [
    "# merge with unique aircrafts from flights table\n",
    "\n",
    "aircraft_select = aircrafts[['N-NUMBER', 'NAME', 'YEAR MFR', 'CERT ISSUE DATE']]\n",
    "\n",
    "aircraft_age = aircraft_select.merge(\n",
    "    flights[['ACT_FULL_TAIL_NBR']], left_on='N-NUMBER', right_on='ACT_FULL_TAIL_NBR').drop_duplicates().reset_index(drop=True)\n",
    "\n",
    "# convert to int \n",
    "\n",
    "aircraft_age['YEAR MFR'] = aircraft_age['YEAR MFR'].replace(r'^\\s+$', 0, regex=True)\n",
    "aircraft_age['YEAR MFR'] = aircraft_age['YEAR MFR'].astype(int)"
   ]
  },
  {
   "cell_type": "code",
   "execution_count": 37,
   "metadata": {},
   "outputs": [
    {
     "data": {
      "text/plain": [
       "array(['SKYWEST AIRLINES INC                              ',\n",
       "       'ALASKA AIRLINES INC                               ',\n",
       "       'WELLS FARGO TRUST CO NA TRUSTEE                   ',\n",
       "       'ALC A320 7138 LLC                                 ',\n",
       "       'BCC EQUIPMENT LEASING CORP                        ',\n",
       "       'HORIZON AIR INDUSTRIES INC                        ',\n",
       "       'BANK OF UTAH TRUSTEE                              ',\n",
       "       'WILMINGTON TRUST CO TRUSTEE                       ',\n",
       "       'N524VA TRUST                                      ',\n",
       "       'UMB BANK NA TRUSTEE                               ',\n",
       "       'SASOF III 3445 OWNER STATUTORY TRUST              ',\n",
       "       'CLASKA AIRLINES INC                               ',\n",
       "       'JET-I 2616 OWNER TRUST                            ',\n",
       "       'AFS INVESTMENTS 48 LLC                            ',\n",
       "       'JET-I 2740 OWNER TRUST                            ',\n",
       "       'AFS INVESTMENTS 67 LLC                            ',\n",
       "       'SPIREDELL TRUST                                   ',\n",
       "       'N633VA TRUST                                      ',\n",
       "       'V28V 3460 OWNER STATUTORY TRUST                   ',\n",
       "       'V28V 3465 OWNER STATUTORY TRUST                   ',\n",
       "       'TVPX AIRCRAFT SOLUTIONS INC TR                    ',\n",
       "       'AWAS 4991 TRUST                                   '], dtype=object)"
      ]
     },
     "execution_count": 37,
     "metadata": {},
     "output_type": "execute_result"
    }
   ],
   "source": [
    "# check if the owner names makes sense\n",
    "\n",
    "aircraft_age.NAME.unique()"
   ]
  },
  {
   "cell_type": "code",
   "execution_count": 38,
   "metadata": {},
   "outputs": [
    {
     "data": {
      "text/html": [
       "<div>\n",
       "<style scoped>\n",
       "    .dataframe tbody tr th:only-of-type {\n",
       "        vertical-align: middle;\n",
       "    }\n",
       "\n",
       "    .dataframe tbody tr th {\n",
       "        vertical-align: top;\n",
       "    }\n",
       "\n",
       "    .dataframe thead th {\n",
       "        text-align: right;\n",
       "    }\n",
       "</style>\n",
       "<table border=\"1\" class=\"dataframe\">\n",
       "  <thead>\n",
       "    <tr style=\"text-align: right;\">\n",
       "      <th></th>\n",
       "      <th>N-NUMBER</th>\n",
       "      <th>NAME</th>\n",
       "      <th>YEAR MFR</th>\n",
       "      <th>CERT ISSUE DATE</th>\n",
       "      <th>ACT_FULL_TAIL_NBR</th>\n",
       "    </tr>\n",
       "  </thead>\n",
       "  <tbody>\n",
       "    <tr>\n",
       "      <th>35</th>\n",
       "      <td>251AK</td>\n",
       "      <td>ALASKA AIRLINES INC                           ...</td>\n",
       "      <td>0</td>\n",
       "      <td>20160714</td>\n",
       "      <td>251AK</td>\n",
       "    </tr>\n",
       "    <tr>\n",
       "      <th>116</th>\n",
       "      <td>432QX</td>\n",
       "      <td>HORIZON AIR INDUSTRIES INC                    ...</td>\n",
       "      <td>0</td>\n",
       "      <td>20070731</td>\n",
       "      <td>432QX</td>\n",
       "    </tr>\n",
       "    <tr>\n",
       "      <th>186</th>\n",
       "      <td>527AS</td>\n",
       "      <td>ALASKA AIRLINES INC                           ...</td>\n",
       "      <td>0</td>\n",
       "      <td>20090526</td>\n",
       "      <td>527AS</td>\n",
       "    </tr>\n",
       "    <tr>\n",
       "      <th>305</th>\n",
       "      <td>841VA</td>\n",
       "      <td>WELLS FARGO TRUST CO NA TRUSTEE               ...</td>\n",
       "      <td>0</td>\n",
       "      <td>20160825</td>\n",
       "      <td>841VA</td>\n",
       "    </tr>\n",
       "  </tbody>\n",
       "</table>\n",
       "</div>"
      ],
      "text/plain": [
       "    N-NUMBER                                               NAME  YEAR MFR  \\\n",
       "35     251AK  ALASKA AIRLINES INC                           ...         0   \n",
       "116    432QX  HORIZON AIR INDUSTRIES INC                    ...         0   \n",
       "186    527AS  ALASKA AIRLINES INC                           ...         0   \n",
       "305    841VA  WELLS FARGO TRUST CO NA TRUSTEE               ...         0   \n",
       "\n",
       "    CERT ISSUE DATE ACT_FULL_TAIL_NBR  \n",
       "35         20160714             251AK  \n",
       "116        20070731             432QX  \n",
       "186        20090526             527AS  \n",
       "305        20160825             841VA  "
      ]
     },
     "execution_count": 38,
     "metadata": {},
     "output_type": "execute_result"
    }
   ],
   "source": [
    "# missing values\n",
    "\n",
    "aircraft_age.loc[aircraft_age['YEAR MFR']==0]"
   ]
  },
  {
   "cell_type": "code",
   "execution_count": 39,
   "metadata": {},
   "outputs": [],
   "source": [
    "# use certificate date as proxy if manufacture date is missing\n",
    "\n",
    "aircraft_age['CERT YEAR'] = aircraft_age['CERT ISSUE DATE'].str[:-4].astype(int)\n",
    "\n",
    "aircraft_age['year_mfr'] = np.where(aircraft_age['YEAR MFR']==0, aircraft_age['CERT YEAR'], aircraft_age['YEAR MFR'])"
   ]
  },
  {
   "cell_type": "code",
   "execution_count": 40,
   "metadata": {},
   "outputs": [],
   "source": [
    "# need to convert again to datetime\n",
    "\n",
    "dt_cols = ['SKD_ZULU_DPTR_DTTM', 'ACT_ZULU_DPTR_DTTM', 'SKD_ZULU_ARRV_DTTM', 'ACT_ZULU_ARRV_DTTM']\n",
    "\n",
    "\n",
    "for dt_col in dt_cols:\n",
    "    flights[dt_col] = pd.to_datetime(flights[dt_col])"
   ]
  },
  {
   "cell_type": "code",
   "execution_count": 41,
   "metadata": {},
   "outputs": [],
   "source": [
    "# merge with the flights table\n",
    "# get aircraft age\n",
    "\n",
    "flights2 = flights.merge(aircraft_age[['ACT_FULL_TAIL_NBR', 'year_mfr']])\n",
    "\n",
    "flights2['ac_age'] = flights2.ACT_ZULU_DPTR_DTTM.dt.year - flights2.year_mfr"
   ]
  },
  {
   "cell_type": "code",
   "execution_count": 42,
   "metadata": {},
   "outputs": [],
   "source": [
    "# save again\n",
    "\n",
    "flights2.to_csv('data_clean/flights_cleaned_new.csv', index=False)"
   ]
  },
  {
   "cell_type": "markdown",
   "metadata": {},
   "source": [
    "## Step 3: EDA  <a name=\"step3\"></a>"
   ]
  },
  {
   "cell_type": "markdown",
   "metadata": {},
   "source": [
    "[(Back to top)](#top)"
   ]
  },
  {
   "cell_type": "markdown",
   "metadata": {},
   "source": [
    "- Visualize distribution of variables\n",
    "- Visualize relationship between variables\n",
    "- Are there variables that can be taken out of the model?"
   ]
  },
  {
   "cell_type": "code",
   "execution_count": 43,
   "metadata": {},
   "outputs": [],
   "source": [
    "# Load more libraries\n",
    "\n",
    "import matplotlib.pyplot as plt\n",
    "import seaborn as sns\n",
    "%matplotlib inline"
   ]
  },
  {
   "cell_type": "code",
   "execution_count": 44,
   "metadata": {},
   "outputs": [
    {
     "name": "stdout",
     "output_type": "stream",
     "text": [
      "flights.shape:  (269763, 21)\n"
     ]
    }
   ],
   "source": [
    "# load cleaned data again\n",
    "\n",
    "flights = pd.read_csv('data_clean/flights_cleaned_new.csv')\n",
    "\n",
    "print('flights.shape: ', flights.shape)"
   ]
  },
  {
   "cell_type": "code",
   "execution_count": 45,
   "metadata": {},
   "outputs": [
    {
     "data": {
      "text/plain": [
       "Index(['OPER_CARR_CD', 'ACT_ORIG', 'ACT_DEST', 'FLT_NBR', 'ACT_FULL_TAIL_NBR',\n",
       "       'ACT_AC_TYPE', 'SKD_MILES', 'ACT_TAXI_OUT_MIN', 'ACT_TAXI_IN_MIN',\n",
       "       'SKD_ZULU_DPTR_DTTM', 'ACT_ZULU_DPTR_DTTM', 'SKD_ZULU_ARRV_DTTM',\n",
       "       'ACT_ZULU_ARRV_DTTM', 'ACT_ORIG_GMT_OFFSET', 'ACT_DEST_GMT_OFFSET',\n",
       "       'month', 'delay_min', 'is_delay', 'skd_flight_time', 'year_mfr',\n",
       "       'ac_age'],\n",
       "      dtype='object')"
      ]
     },
     "execution_count": 45,
     "metadata": {},
     "output_type": "execute_result"
    }
   ],
   "source": [
    "# revisit- what are the variables?\n",
    "\n",
    "flights.columns"
   ]
  },
  {
   "cell_type": "code",
   "execution_count": 46,
   "metadata": {},
   "outputs": [],
   "source": [
    "# helper function\n",
    "\n",
    "def get_pct_groupby(col):\n",
    "    \n",
    "    num = flights.loc[flights.is_delay==1].groupby(col).count()['is_delay']\n",
    "    denom = flights.groupby(col).count()['is_delay']\n",
    "    \n",
    "    return num/denom"
   ]
  },
  {
   "cell_type": "code",
   "execution_count": 47,
   "metadata": {},
   "outputs": [
    {
     "data": {
      "text/plain": [
       "OPER_CARR_CD\n",
       "AS    0.123615\n",
       "OO    0.070018\n",
       "QX    0.090901\n",
       "Name: is_delay, dtype: float64"
      ]
     },
     "execution_count": 47,
     "metadata": {},
     "output_type": "execute_result"
    }
   ],
   "source": [
    "get_pct_groupby('OPER_CARR_CD')"
   ]
  },
  {
   "cell_type": "code",
   "execution_count": 48,
   "metadata": {},
   "outputs": [
    {
     "data": {
      "text/plain": [
       "0.10319799231176996"
      ]
     },
     "execution_count": 48,
     "metadata": {},
     "output_type": "execute_result"
    }
   ],
   "source": [
    "# total delayed flights?\n",
    "\n",
    "flights.loc[flights.is_delay==1].shape[0]/flights.shape[0]"
   ]
  },
  {
   "cell_type": "code",
   "execution_count": 49,
   "metadata": {},
   "outputs": [
    {
     "data": {
      "text/plain": [
       "array([[<AxesSubplot:title={'center':'SKD_MILES'}>]], dtype=object)"
      ]
     },
     "execution_count": 49,
     "metadata": {},
     "output_type": "execute_result"
    },
    {
     "data": {
      "image/png": "[encoded data removed]",
      "text/plain": [
       "<Figure size 432x288 with 1 Axes>"
      ]
     },
     "metadata": {
      "needs_background": "light"
     },
     "output_type": "display_data"
    }
   ],
   "source": [
    "# distribution of variables- scheduled miles?\n",
    "\n",
    "flights.hist('SKD_MILES')"
   ]
  },
  {
   "cell_type": "code",
   "execution_count": 50,
   "metadata": {},
   "outputs": [
    {
     "data": {
      "image/png": "[encoded data removed]",
      "text/plain": [
       "<Figure size 432x576 with 1 Axes>"
      ]
     },
     "metadata": {
      "needs_background": "light"
     },
     "output_type": "display_data"
    }
   ],
   "source": [
    "# difference between delayed and not delayed?\n",
    "\n",
    "fig = plt.figure(figsize=(6,8))\n",
    "ax = fig.add_subplot()\n",
    "ax.set_title('Distribution of Scheduled Miles (Delayed and Not Delayed)')\n",
    "ax.hist(flights.loc[flights.is_delay==-1]['SKD_MILES'], alpha=0.5, label='no_delay')\n",
    "ax.hist(flights.loc[flights.is_delay==1]['SKD_MILES'], alpha=0.5, label='is_delay')\n",
    "ax.set_xlabel('Scheduled Miles')\n",
    "ax.set_ylabel('Count')\n",
    "plt.legend();"
   ]
  },
  {
   "cell_type": "code",
   "execution_count": 51,
   "metadata": {},
   "outputs": [
    {
     "data": {
      "text/plain": [
       "Text(0, 0.5, 'Count')"
      ]
     },
     "execution_count": 51,
     "metadata": {},
     "output_type": "execute_result"
    },
    {
     "data": {
      "image/png": "[encoded data removed]",
      "text/plain": [
       "<Figure size 576x216 with 1 Axes>"
      ]
     },
     "metadata": {
      "needs_background": "light"
     },
     "output_type": "display_data"
    }
   ],
   "source": [
    "# delayed flights by carriers?\n",
    "\n",
    "fig = plt.figure(figsize=(8,3))\n",
    "ax = sns.countplot(x='OPER_CARR_CD', hue='is_delay', data=flights)\n",
    "ax.set_title('Flights by Carrier')\n",
    "ax.set_xlabel('Carrier')\n",
    "ax.set_ylabel('Count')"
   ]
  },
  {
   "cell_type": "code",
   "execution_count": 52,
   "metadata": {},
   "outputs": [
    {
     "data": {
      "image/png": "[encoded data removed]",
      "text/plain": [
       "<Figure size 720x360 with 1 Axes>"
      ]
     },
     "metadata": {
      "needs_background": "light"
     },
     "output_type": "display_data"
    }
   ],
   "source": [
    "# scheduled miles vs delay?\n",
    "\n",
    "fig = plt.figure(figsize=(10,5))\n",
    "ax = fig.add_subplot()\n",
    "ax.set_title('Scheduled Miles vs Delay')\n",
    "ax.scatter(x=flights.SKD_MILES, y=flights.delay_min)\n",
    "ax.set_ylabel('Delay (Min)')\n",
    "ax.set_xlabel('Miles');"
   ]
  },
  {
   "cell_type": "code",
   "execution_count": 53,
   "metadata": {},
   "outputs": [
    {
     "data": {
      "image/png": "[encoded data removed]",
      "text/plain": [
       "<Figure size 720x360 with 1 Axes>"
      ]
     },
     "metadata": {
      "needs_background": "light"
     },
     "output_type": "display_data"
    }
   ],
   "source": [
    "fig = plt.figure(figsize=(10,5))\n",
    "ax = fig.add_subplot()\n",
    "ax.set_title('Taxi Out Time vs Delay')\n",
    "ax.scatter(x=flights.ACT_TAXI_OUT_MIN, y=flights.delay_min)\n",
    "ax.set_ylabel('Delay (Min)')\n",
    "ax.set_xlabel('Taxi Out (Min)');"
   ]
  },
  {
   "cell_type": "code",
   "execution_count": 54,
   "metadata": {},
   "outputs": [
    {
     "data": {
      "image/png": "[encoded data removed]",
      "text/plain": [
       "<Figure size 432x576 with 1 Axes>"
      ]
     },
     "metadata": {
      "needs_background": "light"
     },
     "output_type": "display_data"
    }
   ],
   "source": [
    "# taxi out time vs delay?\n",
    "\n",
    "fig = plt.figure(figsize=(6,8))\n",
    "ax = fig.add_subplot()\n",
    "ax.set_title('Taxi In Time vs Delay')\n",
    "ax.scatter(x=flights.ACT_TAXI_IN_MIN, y=flights.delay_min)\n",
    "ax.set_ylabel('Delay (Min)')\n",
    "ax.set_xlabel('Taxi In (Min)');"
   ]
  },
  {
   "cell_type": "markdown",
   "metadata": {},
   "source": [
    "There definitely seems to be a relationship between the taxi time and the actual delay. "
   ]
  },
  {
   "cell_type": "code",
   "execution_count": 55,
   "metadata": {},
   "outputs": [
    {
     "data": {
      "text/plain": [
       "<matplotlib.collections.PathCollection at 0x1c21fdb5790>"
      ]
     },
     "execution_count": 55,
     "metadata": {},
     "output_type": "execute_result"
    },
    {
     "data": {
      "image/png": "[encoded data removed]",
      "text/plain": [
       "<Figure size 432x288 with 1 Axes>"
      ]
     },
     "metadata": {
      "needs_background": "light"
     },
     "output_type": "display_data"
    }
   ],
   "source": [
    "# aircraft age vs delay?\n",
    "\n",
    "plt.scatter(x=flights.ac_age, y=flights.delay_min)"
   ]
  },
  {
   "cell_type": "code",
   "execution_count": 56,
   "metadata": {},
   "outputs": [
    {
     "data": {
      "text/plain": [
       "array([[<AxesSubplot:title={'center':'ac_age'}>]], dtype=object)"
      ]
     },
     "execution_count": 56,
     "metadata": {},
     "output_type": "execute_result"
    },
    {
     "data": {
      "image/png": "[encoded data removed]",
      "text/plain": [
       "<Figure size 432x288 with 1 Axes>"
      ]
     },
     "metadata": {
      "needs_background": "light"
     },
     "output_type": "display_data"
    }
   ],
   "source": [
    "# distribution of aircraft age?\n",
    "\n",
    "flights.hist('ac_age')"
   ]
  },
  {
   "cell_type": "markdown",
   "metadata": {},
   "source": [
    "## Step 4: Preprocessing variables <a name=\"step4\"></a>"
   ]
  },
  {
   "cell_type": "markdown",
   "metadata": {},
   "source": [
    "[(Back to top)](#top)"
   ]
  },
  {
   "cell_type": "markdown",
   "metadata": {},
   "source": [
    "- Response variable is already defined as the `is_delay` column\n",
    "- Some of the variables included are not relevant as they are either descriptive (timezone offset) or identifiers (flight number)\n",
    "- Some of the variables actually point to relevant data, but are incomplete at this stage:\n",
    "    - I would argue that origin/destination codes are not useful at this stage. Because of the high cardinality, it is difficult to dummify/factorize for each airport code, or at least it decreases the interpretability of the model. However, the location is possibly relevant - flights are often delayed due to the weather, and ideally the location/time combination can be used to retreive weather data. \n",
    "- Remaining categorical variables should be onehot encoded (aircraft types, carrier, month)\n",
    "- The datetime columns are already represented in the `month` category and `is_delay` response, so they should also be dropped.\n",
    "- Split the x, y variables to train/test sets"
   ]
  },
  {
   "cell_type": "code",
   "execution_count": 57,
   "metadata": {},
   "outputs": [],
   "source": [
    "# load more libraries\n",
    "\n",
    "from sklearn import preprocessing\n",
    "from sklearn.model_selection import train_test_split"
   ]
  },
  {
   "cell_type": "code",
   "execution_count": 58,
   "metadata": {},
   "outputs": [
    {
     "data": {
      "text/plain": [
       "Index(['OPER_CARR_CD', 'ACT_ORIG', 'ACT_DEST', 'FLT_NBR', 'ACT_FULL_TAIL_NBR',\n",
       "       'ACT_AC_TYPE', 'SKD_MILES', 'ACT_TAXI_OUT_MIN', 'ACT_TAXI_IN_MIN',\n",
       "       'SKD_ZULU_DPTR_DTTM', 'ACT_ZULU_DPTR_DTTM', 'SKD_ZULU_ARRV_DTTM',\n",
       "       'ACT_ZULU_ARRV_DTTM', 'ACT_ORIG_GMT_OFFSET', 'ACT_DEST_GMT_OFFSET',\n",
       "       'month', 'delay_min', 'is_delay', 'skd_flight_time', 'year_mfr',\n",
       "       'ac_age'],\n",
       "      dtype='object')"
      ]
     },
     "execution_count": 58,
     "metadata": {},
     "output_type": "execute_result"
    }
   ],
   "source": [
    "# again- revisit the variables\n",
    "\n",
    "flights.columns"
   ]
  },
  {
   "cell_type": "code",
   "execution_count": 59,
   "metadata": {},
   "outputs": [],
   "source": [
    "# drop the unneeded variables\n",
    "\n",
    "keep_cols = ['OPER_CARR_CD', \n",
    "             'ACT_AC_TYPE',\n",
    "             'SKD_MILES',\n",
    "             'ACT_TAXI_OUT_MIN',\n",
    "             'ACT_TAXI_IN_MIN',\n",
    "             'month',\n",
    "             'ac_age']\n",
    "\n",
    "flights_keep = flights[keep_cols].copy()"
   ]
  },
  {
   "cell_type": "code",
   "execution_count": 60,
   "metadata": {},
   "outputs": [
    {
     "name": "stdout",
     "output_type": "stream",
     "text": [
      "Aircraft types:  ['E175' '737-800' '737-900E' '737-900R' '737-800E' 'A320' 'A319' '737-900'\n",
      " 'A32B' 'A321' '737-700' '737-700F' 'DH8-400' 'A3SE']\n",
      "Carriers:  ['OO' 'AS' 'QX']\n",
      "Months:  ['March' 'October' 'September' 'April' 'February' 'December' 'January'\n",
      " 'November' 'August' 'June' 'May' 'July']\n"
     ]
    }
   ],
   "source": [
    "# categorical variables\n",
    "\n",
    "print('Aircraft types: ',flights_keep.ACT_AC_TYPE.unique())\n",
    "print('Carriers: ', flights_keep.OPER_CARR_CD.unique())\n",
    "print('Months: ', flights_keep.month.unique())"
   ]
  },
  {
   "cell_type": "code",
   "execution_count": 61,
   "metadata": {},
   "outputs": [
    {
     "name": "stdout",
     "output_type": "stream",
     "text": [
      "x_cat.shape:  (269763, 29)\n"
     ]
    }
   ],
   "source": [
    "# encode categorical variables\n",
    "\n",
    "df_cat = pd.get_dummies(flights_keep[['OPER_CARR_CD', 'ACT_AC_TYPE', 'month']])\n",
    "\n",
    "x_cat = df_cat.to_numpy()\n",
    "\n",
    "print('x_cat.shape: ', x_cat.shape)"
   ]
  },
  {
   "cell_type": "code",
   "execution_count": 62,
   "metadata": {},
   "outputs": [
    {
     "name": "stdout",
     "output_type": "stream",
     "text": [
      "x_num.shape:  (269763, 3)\n"
     ]
    }
   ],
   "source": [
    "# get the numerical variables\n",
    "\n",
    "df_num = flights_keep[['SKD_MILES', 'ACT_TAXI_OUT_MIN', 'ac_age']].copy()\n",
    "x_num = df_num.to_numpy()\n",
    "\n",
    "print('x_num.shape: ', x_num.shape)"
   ]
  },
  {
   "cell_type": "code",
   "execution_count": 63,
   "metadata": {},
   "outputs": [
    {
     "name": "stdout",
     "output_type": "stream",
     "text": [
      "x.shape:  (269763, 32)\n"
     ]
    }
   ],
   "source": [
    "# combine to get the x array\n",
    "\n",
    "x = np.concatenate((x_cat, x_num), axis=1)\n",
    "print('x.shape: ', x.shape)"
   ]
  },
  {
   "cell_type": "code",
   "execution_count": 64,
   "metadata": {},
   "outputs": [
    {
     "name": "stdout",
     "output_type": "stream",
     "text": [
      "y.shape:  (269763,)\n"
     ]
    }
   ],
   "source": [
    "# get the response variable\n",
    "\n",
    "y = flights['is_delay'].to_numpy()\n",
    "\n",
    "print('y.shape: ', y.shape)"
   ]
  },
  {
   "cell_type": "code",
   "execution_count": 65,
   "metadata": {},
   "outputs": [
    {
     "name": "stdout",
     "output_type": "stream",
     "text": [
      "x_train.shape:  (215810, 32)\n",
      "y_train.shape:  (215810,)\n",
      "x_test.shape:  (53953, 32)\n",
      "y_test.shape:  (53953,)\n"
     ]
    }
   ],
   "source": [
    "# get train/test dataset\n",
    "\n",
    "x_train, x_test, y_train, y_test = train_test_split(x, y, train_size=0.8, random_state=99)\n",
    "\n",
    "print('x_train.shape: ', x_train.shape)\n",
    "print('y_train.shape: ', y_train.shape)\n",
    "print('x_test.shape: ', x_test.shape)\n",
    "print('y_test.shape: ', y_test.shape)"
   ]
  },
  {
   "cell_type": "code",
   "execution_count": 66,
   "metadata": {},
   "outputs": [
    {
     "name": "stdout",
     "output_type": "stream",
     "text": [
      "X_train.mean:  -1.966078886224546e-18\n",
      "X_train.std:  0.9999999999995425\n",
      "X_test.mean:  -2.115376845244307e-18\n",
      "X_test.std:  0.9999999999999661\n"
     ]
    }
   ],
   "source": [
    "# standardize numerical variables\n",
    "\n",
    "scaler = preprocessing.StandardScaler()\n",
    "X_train = scaler.fit_transform(x_train)\n",
    "X_test = scaler.fit_transform(x_test)\n",
    "\n",
    "print('X_train.mean: ', X_train.mean())\n",
    "print('X_train.std: ', X_train.std())\n",
    "print('X_test.mean: ', X_test.mean())\n",
    "print('X_test.std: ', X_test.std())"
   ]
  },
  {
   "cell_type": "markdown",
   "metadata": {},
   "source": [
    "## Step 5: Logistic Regression <a name=\"step5\"></a>"
   ]
  },
  {
   "cell_type": "markdown",
   "metadata": {},
   "source": [
    "[(Back to top)](#top)"
   ]
  },
  {
   "cell_type": "markdown",
   "metadata": {},
   "source": [
    "This is a classification problem, where we are trying to predict whether the flight will be delayed (`is_delay==1`) or not (`is_delay==-1`). For a simple model, I will use logistic regression to fit a model to the training dataset, and then predict on the test set. "
   ]
  },
  {
   "cell_type": "code",
   "execution_count": 67,
   "metadata": {},
   "outputs": [],
   "source": [
    "# load more libraries\n",
    "\n",
    "from sklearn.linear_model import LogisticRegression, LogisticRegressionCV"
   ]
  },
  {
   "cell_type": "code",
   "execution_count": 68,
   "metadata": {},
   "outputs": [],
   "source": [
    "# model\n",
    "\n",
    "m = LogisticRegressionCV(cv=5, class_weight='balanced').fit(X_train, y_train)"
   ]
  },
  {
   "cell_type": "code",
   "execution_count": 69,
   "metadata": {},
   "outputs": [
    {
     "data": {
      "text/plain": [
       "array([[ 0.01677141, -0.06770711,  0.03710407,  0.02995039,  0.33202806,\n",
       "         0.00329311,  0.01079865, -0.00094498, -0.06021481, -0.07543169,\n",
       "         0.00653741, -0.01616003, -0.01852115, -0.03164191,  0.00270865,\n",
       "        -0.02100985, -0.00091774, -0.13115472,  0.01649235,  0.00167365,\n",
       "         0.16069525, -0.04109706, -0.01345226, -0.03014643,  0.05616907,\n",
       "        -0.08400523,  0.04023945, -0.00629225, -0.04961156, -0.00554201,\n",
       "         0.38367361,  0.09879057]])"
      ]
     },
     "execution_count": 69,
     "metadata": {},
     "output_type": "execute_result"
    }
   ],
   "source": [
    "m.coef_"
   ]
  },
  {
   "cell_type": "code",
   "execution_count": 70,
   "metadata": {},
   "outputs": [
    {
     "data": {
      "text/html": [
       "<div>\n",
       "<style scoped>\n",
       "    .dataframe tbody tr th:only-of-type {\n",
       "        vertical-align: middle;\n",
       "    }\n",
       "\n",
       "    .dataframe tbody tr th {\n",
       "        vertical-align: top;\n",
       "    }\n",
       "\n",
       "    .dataframe thead th {\n",
       "        text-align: right;\n",
       "    }\n",
       "</style>\n",
       "<table border=\"1\" class=\"dataframe\">\n",
       "  <thead>\n",
       "    <tr style=\"text-align: right;\">\n",
       "      <th></th>\n",
       "      <th>features</th>\n",
       "      <th>coef</th>\n",
       "    </tr>\n",
       "  </thead>\n",
       "  <tbody>\n",
       "    <tr>\n",
       "      <th>0</th>\n",
       "      <td>OPER_CARR_CD_AS</td>\n",
       "      <td>0.016771</td>\n",
       "    </tr>\n",
       "    <tr>\n",
       "      <th>1</th>\n",
       "      <td>OPER_CARR_CD_OO</td>\n",
       "      <td>-0.067707</td>\n",
       "    </tr>\n",
       "    <tr>\n",
       "      <th>2</th>\n",
       "      <td>OPER_CARR_CD_QX</td>\n",
       "      <td>0.037104</td>\n",
       "    </tr>\n",
       "    <tr>\n",
       "      <th>3</th>\n",
       "      <td>ACT_AC_TYPE_737-700</td>\n",
       "      <td>0.029950</td>\n",
       "    </tr>\n",
       "    <tr>\n",
       "      <th>4</th>\n",
       "      <td>ACT_AC_TYPE_737-700F</td>\n",
       "      <td>0.332028</td>\n",
       "    </tr>\n",
       "    <tr>\n",
       "      <th>5</th>\n",
       "      <td>ACT_AC_TYPE_737-800</td>\n",
       "      <td>0.003293</td>\n",
       "    </tr>\n",
       "    <tr>\n",
       "      <th>6</th>\n",
       "      <td>ACT_AC_TYPE_737-800E</td>\n",
       "      <td>0.010799</td>\n",
       "    </tr>\n",
       "    <tr>\n",
       "      <th>7</th>\n",
       "      <td>ACT_AC_TYPE_737-900</td>\n",
       "      <td>-0.000945</td>\n",
       "    </tr>\n",
       "    <tr>\n",
       "      <th>8</th>\n",
       "      <td>ACT_AC_TYPE_737-900E</td>\n",
       "      <td>-0.060215</td>\n",
       "    </tr>\n",
       "    <tr>\n",
       "      <th>9</th>\n",
       "      <td>ACT_AC_TYPE_737-900R</td>\n",
       "      <td>-0.075432</td>\n",
       "    </tr>\n",
       "    <tr>\n",
       "      <th>10</th>\n",
       "      <td>ACT_AC_TYPE_A319</td>\n",
       "      <td>0.006537</td>\n",
       "    </tr>\n",
       "    <tr>\n",
       "      <th>11</th>\n",
       "      <td>ACT_AC_TYPE_A320</td>\n",
       "      <td>-0.016160</td>\n",
       "    </tr>\n",
       "    <tr>\n",
       "      <th>12</th>\n",
       "      <td>ACT_AC_TYPE_A321</td>\n",
       "      <td>-0.018521</td>\n",
       "    </tr>\n",
       "    <tr>\n",
       "      <th>13</th>\n",
       "      <td>ACT_AC_TYPE_A32B</td>\n",
       "      <td>-0.031642</td>\n",
       "    </tr>\n",
       "    <tr>\n",
       "      <th>14</th>\n",
       "      <td>ACT_AC_TYPE_A3SE</td>\n",
       "      <td>0.002709</td>\n",
       "    </tr>\n",
       "    <tr>\n",
       "      <th>15</th>\n",
       "      <td>ACT_AC_TYPE_DH8-400</td>\n",
       "      <td>-0.021010</td>\n",
       "    </tr>\n",
       "    <tr>\n",
       "      <th>16</th>\n",
       "      <td>ACT_AC_TYPE_E175</td>\n",
       "      <td>-0.000918</td>\n",
       "    </tr>\n",
       "    <tr>\n",
       "      <th>17</th>\n",
       "      <td>month_April</td>\n",
       "      <td>-0.131155</td>\n",
       "    </tr>\n",
       "    <tr>\n",
       "      <th>18</th>\n",
       "      <td>month_August</td>\n",
       "      <td>0.016492</td>\n",
       "    </tr>\n",
       "    <tr>\n",
       "      <th>19</th>\n",
       "      <td>month_December</td>\n",
       "      <td>0.001674</td>\n",
       "    </tr>\n",
       "    <tr>\n",
       "      <th>20</th>\n",
       "      <td>month_February</td>\n",
       "      <td>0.160695</td>\n",
       "    </tr>\n",
       "    <tr>\n",
       "      <th>21</th>\n",
       "      <td>month_January</td>\n",
       "      <td>-0.041097</td>\n",
       "    </tr>\n",
       "    <tr>\n",
       "      <th>22</th>\n",
       "      <td>month_July</td>\n",
       "      <td>-0.013452</td>\n",
       "    </tr>\n",
       "    <tr>\n",
       "      <th>23</th>\n",
       "      <td>month_June</td>\n",
       "      <td>-0.030146</td>\n",
       "    </tr>\n",
       "    <tr>\n",
       "      <th>24</th>\n",
       "      <td>month_March</td>\n",
       "      <td>0.056169</td>\n",
       "    </tr>\n",
       "    <tr>\n",
       "      <th>25</th>\n",
       "      <td>month_May</td>\n",
       "      <td>-0.084005</td>\n",
       "    </tr>\n",
       "    <tr>\n",
       "      <th>26</th>\n",
       "      <td>month_November</td>\n",
       "      <td>0.040239</td>\n",
       "    </tr>\n",
       "    <tr>\n",
       "      <th>27</th>\n",
       "      <td>month_October</td>\n",
       "      <td>-0.006292</td>\n",
       "    </tr>\n",
       "    <tr>\n",
       "      <th>28</th>\n",
       "      <td>month_September</td>\n",
       "      <td>-0.049612</td>\n",
       "    </tr>\n",
       "    <tr>\n",
       "      <th>29</th>\n",
       "      <td>SKD_MILES</td>\n",
       "      <td>-0.005542</td>\n",
       "    </tr>\n",
       "    <tr>\n",
       "      <th>30</th>\n",
       "      <td>ACT_TAXI_OUT_MIN</td>\n",
       "      <td>0.383674</td>\n",
       "    </tr>\n",
       "    <tr>\n",
       "      <th>31</th>\n",
       "      <td>ac_age</td>\n",
       "      <td>0.098791</td>\n",
       "    </tr>\n",
       "  </tbody>\n",
       "</table>\n",
       "</div>"
      ],
      "text/plain": [
       "                features      coef\n",
       "0        OPER_CARR_CD_AS  0.016771\n",
       "1        OPER_CARR_CD_OO -0.067707\n",
       "2        OPER_CARR_CD_QX  0.037104\n",
       "3    ACT_AC_TYPE_737-700  0.029950\n",
       "4   ACT_AC_TYPE_737-700F  0.332028\n",
       "5    ACT_AC_TYPE_737-800  0.003293\n",
       "6   ACT_AC_TYPE_737-800E  0.010799\n",
       "7    ACT_AC_TYPE_737-900 -0.000945\n",
       "8   ACT_AC_TYPE_737-900E -0.060215\n",
       "9   ACT_AC_TYPE_737-900R -0.075432\n",
       "10      ACT_AC_TYPE_A319  0.006537\n",
       "11      ACT_AC_TYPE_A320 -0.016160\n",
       "12      ACT_AC_TYPE_A321 -0.018521\n",
       "13      ACT_AC_TYPE_A32B -0.031642\n",
       "14      ACT_AC_TYPE_A3SE  0.002709\n",
       "15   ACT_AC_TYPE_DH8-400 -0.021010\n",
       "16      ACT_AC_TYPE_E175 -0.000918\n",
       "17           month_April -0.131155\n",
       "18          month_August  0.016492\n",
       "19        month_December  0.001674\n",
       "20        month_February  0.160695\n",
       "21         month_January -0.041097\n",
       "22            month_July -0.013452\n",
       "23            month_June -0.030146\n",
       "24           month_March  0.056169\n",
       "25             month_May -0.084005\n",
       "26        month_November  0.040239\n",
       "27         month_October -0.006292\n",
       "28       month_September -0.049612\n",
       "29             SKD_MILES -0.005542\n",
       "30      ACT_TAXI_OUT_MIN  0.383674\n",
       "31                ac_age  0.098791"
      ]
     },
     "execution_count": 70,
     "metadata": {},
     "output_type": "execute_result"
    }
   ],
   "source": [
    "# look at the coefficients\n",
    "\n",
    "cat_names = df_cat.columns.to_list()\n",
    "num_names = df_num.columns.to_list()\n",
    "feature_names = list(np.concatenate([cat_names, num_names]).flat)\n",
    "\n",
    "pd.DataFrame({'features':feature_names, 'coef':m.coef_.flatten()})"
   ]
  },
  {
   "cell_type": "code",
   "execution_count": 71,
   "metadata": {},
   "outputs": [],
   "source": [
    "# test on test set\n",
    "\n",
    "pred = m.predict(X_test)"
   ]
  },
  {
   "cell_type": "code",
   "execution_count": 72,
   "metadata": {},
   "outputs": [
    {
     "name": "stdout",
     "output_type": "stream",
     "text": [
      "misclassification:  0.2594480381072415\n"
     ]
    }
   ],
   "source": [
    "# misclassification error\n",
    "\n",
    "print('misclassification: ', 1-np.mean(y_test==pred))"
   ]
  },
  {
   "cell_type": "markdown",
   "metadata": {},
   "source": [
    "## Step 6: Model Accuracy <a name=\"step6\"></a>"
   ]
  },
  {
   "cell_type": "markdown",
   "metadata": {},
   "source": [
    "[(Back to top)](#top)"
   ]
  },
  {
   "cell_type": "markdown",
   "metadata": {},
   "source": [
    "In the step above, I computed the model misclassification rate, but next will compute the confusion matrix"
   ]
  },
  {
   "cell_type": "code",
   "execution_count": 73,
   "metadata": {},
   "outputs": [],
   "source": [
    "from sklearn.metrics import confusion_matrix, plot_confusion_matrix"
   ]
  },
  {
   "cell_type": "code",
   "execution_count": 74,
   "metadata": {},
   "outputs": [
    {
     "data": {
      "text/plain": [
       "array([[0.68454025, 0.21097993],\n",
       "       [0.04846811, 0.05601171]])"
      ]
     },
     "execution_count": 74,
     "metadata": {},
     "output_type": "execute_result"
    }
   ],
   "source": [
    "# confusion matrix as percent\n",
    "\n",
    "confusion_matrix(y_test, pred)/y_test.shape[0]"
   ]
  },
  {
   "cell_type": "code",
   "execution_count": 75,
   "metadata": {},
   "outputs": [
    {
     "data": {
      "text/plain": [
       "array([[36933, 11383],\n",
       "       [ 2615,  3022]], dtype=int64)"
      ]
     },
     "execution_count": 75,
     "metadata": {},
     "output_type": "execute_result"
    }
   ],
   "source": [
    "# confusion matrix\n",
    "\n",
    "confusion_matrix(y_test, pred)"
   ]
  },
  {
   "cell_type": "code",
   "execution_count": 76,
   "metadata": {},
   "outputs": [
    {
     "data": {
      "text/plain": [
       "<sklearn.metrics._plot.confusion_matrix.ConfusionMatrixDisplay at 0x1c204faa460>"
      ]
     },
     "execution_count": 76,
     "metadata": {},
     "output_type": "execute_result"
    },
    {
     "data": {
      "image/png": "[encoded data removed]",
      "text/plain": [
       "<Figure size 432x288 with 2 Axes>"
      ]
     },
     "metadata": {
      "needs_background": "light"
     },
     "output_type": "display_data"
    }
   ],
   "source": [
    "# plotting confusion matrix\n",
    "\n",
    "plot_confusion_matrix(m, X_test, y_test)"
   ]
  },
  {
   "cell_type": "code",
   "execution_count": 77,
   "metadata": {},
   "outputs": [],
   "source": [
    "def precision(y_true, y_pred):\n",
    "    tp, fp, tn, fn = confusion_matrix(y_true, y_pred).ravel()\n",
    "    \n",
    "    return tp/(tp + fp)\n",
    "\n",
    "def recall(y_true, y_pred):\n",
    "    tp, fp, tn, fn = confusion_matrix(y_true, y_pred).ravel()\n",
    "    \n",
    "    return tp/(tp + fn)\n",
    "\n",
    "def f1(y_true, y_pred):\n",
    "    \n",
    "    prec = precision(y_true, y_pred)\n",
    "    rec = recall(y_true, y_pred)\n",
    "    \n",
    "    return 2*prec*rec/(prec+rec)"
   ]
  },
  {
   "cell_type": "code",
   "execution_count": 78,
   "metadata": {},
   "outputs": [
    {
     "name": "stdout",
     "output_type": "stream",
     "text": [
      "precision:  0.7644051659905622\n",
      "recall:  0.9243649105243399\n",
      "f1:  0.836809371141145\n"
     ]
    }
   ],
   "source": [
    "print('precision: ',precision(y_test, pred))\n",
    "print('recall: ', recall(y_test, pred))\n",
    "print('f1: ', f1(y_test, pred))"
   ]
  },
  {
   "cell_type": "markdown",
   "metadata": {},
   "source": [
    "## Step 7: Iterations <a name=\"step7\"></a>"
   ]
  },
  {
   "cell_type": "markdown",
   "metadata": {},
   "source": [
    "[(Back to top)](#top)"
   ]
  },
  {
   "cell_type": "markdown",
   "metadata": {},
   "source": [
    "In order to iterate through various combination of variables, I will set up a function below which can take column names of the variables as parameters to generate the training and testing sets."
   ]
  },
  {
   "cell_type": "code",
   "execution_count": 79,
   "metadata": {},
   "outputs": [],
   "source": [
    "# load more libraries\n",
    "\n",
    "import time"
   ]
  },
  {
   "cell_type": "code",
   "execution_count": 80,
   "metadata": {},
   "outputs": [],
   "source": [
    "def get_std_train_test_sets(df, cat_cols, num_cols, response):\n",
    "    \"\"\"\n",
    "    Helper function \n",
    "    Get training/testing sets given variables and standardize\n",
    "    df: pandas DataFrame\n",
    "    cat_cols: list, categorical variable column names\n",
    "    num_cols: list, numerical variable column names\n",
    "    response: string, column name of the response variable\n",
    "    Returns: training/testing sets for X and Y\n",
    "    \"\"\"\n",
    "    \n",
    "    # categorical variables\n",
    "    df_cat = pd.get_dummies(df[cat_cols].copy())\n",
    "    x_cat = df_cat.to_numpy()\n",
    "    \n",
    "    # numerical variables\n",
    "    df_num = df[num_cols].copy()\n",
    "    x_num = df_num.to_numpy()\n",
    "    \n",
    "    # combine cat and num variables\n",
    "    x = np.concatenate((x_cat, x_num), axis=1)\n",
    "    \n",
    "    # get response variable\n",
    "    y = df[response].to_numpy()\n",
    "\n",
    "    x_train, x_test, y_train, y_test = train_test_split(x, y, train_size=0.8, random_state=99)\n",
    "    \n",
    "    scaler = preprocessing.StandardScaler()\n",
    "    X_train = scaler.fit_transform(x_train)\n",
    "    X_test = scaler.fit_transform(x_test)\n",
    "\n",
    "    return X_train, X_test, y_train, y_test"
   ]
  },
  {
   "cell_type": "code",
   "execution_count": 81,
   "metadata": {},
   "outputs": [],
   "source": [
    "def get_model_perf(m, X_test, y_test):\n",
    "    \n",
    "    pred = m.predict(X_test)\n",
    "    misclass = 1-np.mean(y_test==pred)\n",
    "    tp, fp, tn, fn = confusion_matrix(y_test, pred).ravel()\n",
    "    precision = tp/(tp + fp)\n",
    "    recall = tp/(tp + fn)\n",
    "    f1 = (2 * precision * recall)/(precision + recall)\n",
    "    \n",
    "    print('misclassification: ', misclass)\n",
    "    print('---------------')\n",
    "    print('precision: ', precision)\n",
    "    print('recall: ', recall)\n",
    "    print('f1: ', f1)"
   ]
  },
  {
   "cell_type": "code",
   "execution_count": 82,
   "metadata": {},
   "outputs": [],
   "source": [
    "def logistic_regression(df, cat_cols, num_cols, response, balanced=True):\n",
    "    \"\"\"\n",
    "    Function to run through the entire workflow\n",
    "    \"\"\"\n",
    "    start = time.time()\n",
    "    X_train, X_test, y_train, y_test = get_std_train_test_sets(df, cat_cols, num_cols, response)\n",
    "    print('X_train.shape: ', X_train.shape)\n",
    "    print('y_train.shape: ', y_train.shape)\n",
    "    print('X_test.shape: ', X_test.shape)\n",
    "    print('y_test.shape: ', y_test.shape)\n",
    "    print('---------------')\n",
    "    \n",
    "    if balanced:\n",
    "        m = LogisticRegressionCV(cv=5, class_weight='balanced', random_state=1).fit(X_train, y_train)\n",
    "    else:\n",
    "        m = LogisticRegressionCV(cv=5, random_state=1).fit(X_train, y_train)\n",
    "    get_model_perf(m, X_test, y_test)\n",
    "    print('---------------')\n",
    "    print('Confusion Matrix (as % of total)')\n",
    "    \n",
    "    pred = m.predict(X_test)\n",
    "    print(confusion_matrix(y_test, pred)/y_test.shape[0])\n",
    "    \n",
    "    plot_confusion_matrix(m, X_test, y_test);\n",
    "    \n",
    "    end = time.time()\n",
    "    \n",
    "    print('---------------')\n",
    "    print('time took: ', end-start)\n",
    "    \n",
    "    return m.coef_"
   ]
  },
  {
   "cell_type": "code",
   "execution_count": 83,
   "metadata": {},
   "outputs": [
    {
     "data": {
      "text/plain": [
       "Index(['OPER_CARR_CD', 'ACT_ORIG', 'ACT_DEST', 'FLT_NBR', 'ACT_FULL_TAIL_NBR',\n",
       "       'ACT_AC_TYPE', 'SKD_MILES', 'ACT_TAXI_OUT_MIN', 'ACT_TAXI_IN_MIN',\n",
       "       'SKD_ZULU_DPTR_DTTM', 'ACT_ZULU_DPTR_DTTM', 'SKD_ZULU_ARRV_DTTM',\n",
       "       'ACT_ZULU_ARRV_DTTM', 'ACT_ORIG_GMT_OFFSET', 'ACT_DEST_GMT_OFFSET',\n",
       "       'month', 'delay_min', 'is_delay', 'skd_flight_time', 'year_mfr',\n",
       "       'ac_age'],\n",
       "      dtype='object')"
      ]
     },
     "execution_count": 83,
     "metadata": {},
     "output_type": "execute_result"
    }
   ],
   "source": [
    "# revisiting again\n",
    "\n",
    "flights.columns"
   ]
  },
  {
   "cell_type": "code",
   "execution_count": 84,
   "metadata": {},
   "outputs": [],
   "source": [
    "# repeat Step 4 in single step\n",
    "\n",
    "cat_cols = ['OPER_CARR_CD', 'ACT_AC_TYPE', 'month']\n",
    "num_cols = ['SKD_MILES', 'ACT_TAXI_OUT_MIN', 'ac_age']"
   ]
  },
  {
   "cell_type": "code",
   "execution_count": 85,
   "metadata": {},
   "outputs": [
    {
     "name": "stdout",
     "output_type": "stream",
     "text": [
      "iteration 1: \n",
      "---------------\n",
      "X_train.shape:  (215810, 32)\n",
      "y_train.shape:  (215810,)\n",
      "X_test.shape:  (53953, 32)\n",
      "y_test.shape:  (53953,)\n",
      "---------------\n",
      "misclassification:  0.2594480381072415\n",
      "---------------\n",
      "precision:  0.7644051659905622\n",
      "recall:  0.9243649105243399\n",
      "f1:  0.836809371141145\n",
      "---------------\n",
      "Confusion Matrix (as % of total)\n",
      "[[0.68454025 0.21097993]\n",
      " [0.04846811 0.05601171]]\n",
      "---------------\n",
      "time took:  9.130955934524536\n"
     ]
    },
    {
     "data": {
      "image/png": "[encoded data removed]",
      "text/plain": [
       "<Figure size 432x288 with 2 Axes>"
      ]
     },
     "metadata": {
      "needs_background": "light"
     },
     "output_type": "display_data"
    }
   ],
   "source": [
    "print('iteration 1: ')\n",
    "print('---------------')\n",
    "iter1 = logistic_regression(flights, cat_cols, num_cols, 'is_delay')"
   ]
  },
  {
   "cell_type": "code",
   "execution_count": 86,
   "metadata": {},
   "outputs": [],
   "source": [
    "# this time include high cardinality orig/dest airport codes as dummies\n",
    "\n",
    "cat_cols_airport = ['OPER_CARR_CD', 'ACT_ORIG', 'ACT_DEST', 'ACT_AC_TYPE', 'month']\n",
    "num_cols = ['SKD_MILES', 'ACT_TAXI_OUT_MIN', 'ac_age']"
   ]
  },
  {
   "cell_type": "code",
   "execution_count": 87,
   "metadata": {},
   "outputs": [
    {
     "name": "stdout",
     "output_type": "stream",
     "text": [
      "iteration 2: \n",
      "---------------\n",
      "X_train.shape:  (215810, 278)\n",
      "y_train.shape:  (215810,)\n",
      "X_test.shape:  (53953, 278)\n",
      "y_test.shape:  (53953,)\n",
      "---------------\n",
      "misclassification:  0.2500139009878969\n",
      "---------------\n",
      "precision:  0.7701589535557579\n",
      "recall:  0.9196075523922499\n",
      "f1:  0.8382743861230008\n",
      "---------------\n",
      "Confusion Matrix (as % of total)\n",
      "[[0.68969288 0.20582729]\n",
      " [0.04418661 0.06029322]]\n",
      "---------------\n",
      "time took:  38.844534397125244\n"
     ]
    },
    {
     "data": {
      "image/png": "[encoded data removed]",
      "text/plain": [
       "<Figure size 432x288 with 2 Axes>"
      ]
     },
     "metadata": {
      "needs_background": "light"
     },
     "output_type": "display_data"
    }
   ],
   "source": [
    "print('iteration 2: ')\n",
    "print('---------------')\n",
    "betas = logistic_regression(flights, cat_cols_airport, num_cols, 'is_delay')"
   ]
  },
  {
   "cell_type": "markdown",
   "metadata": {},
   "source": [
    "## Conclusion <a name=\"conclusion\"></a>"
   ]
  },
  {
   "cell_type": "markdown",
   "metadata": {},
   "source": [
    "[(Back to top)](#top)"
   ]
  },
  {
   "cell_type": "markdown",
   "metadata": {},
   "source": [
    "The purpose of this exercise was to find a way to predict whether a flight would be delayed or not- a potential delay can be mitigated by asking the crew to fly faster, but doing so increases fuel costs, so correctly classifying the outcomes is important. On the flip side, missing the incorrectly labeled non-delay flights would decrease Alaska Airlines' on-time performance.  \n",
    "\n",
    "- True delay (correctly classifies delayed flights): majority of the true delays were correctly classified (58% of all actual delays are classified correctly)\n",
    "    - Business implication: Delays are potentially mitigated, fuel costs are appropriately allocated\n",
    "- True non delay (correctly classifies on-time flights): majority of the true non delays were correctly classified (77% of alll actual on-times are classified correctly)  \n",
    "    - Business implication: Flight is on-time, and no actions were needed, no actions taken\n",
    "- False delay (incorrectly classifies on-time flights): 20% of all flights are assumed to be delayed, but are actually on-time\n",
    "    - Business implication: Flight is on-time but direction issued to mitigate potential delay- additional fuel costs incurred, flight arrives early\n",
    "- False on-time (incorrectly classifies delayed flights): 4% of all flights are assumed to be on-time, but are actually delayed\n",
    "    - Business implication: Flight is delayed but no directions issued to mitigate delay- no fuel costs incurred but flight delayed, decreases on-time performance  \n",
    "    \n",
    "This model may be improved by additional relevant variables, such as weather, wind speed at the origin and destination airports, or during the flight path. Models other than logistic regression can also be explored. "
   ]
  }
 ],
 "metadata": {
  "kernelspec": {
   "display_name": "Python 3",
   "language": "python",
   "name": "python3"
  },
  "language_info": {
   "codemirror_mode": {
    "name": "ipython",
    "version": 3
   },
   "file_extension": ".py",
   "mimetype": "text/x-python",
   "name": "python",
   "nbconvert_exporter": "python",
   "pygments_lexer": "ipython3",
   "version": "3.8.5"
  }
 },
 "nbformat": 4,
 "nbformat_minor": 4
}
